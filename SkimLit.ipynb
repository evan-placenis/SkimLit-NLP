{
  "nbformat": 4,
  "nbformat_minor": 0,
  "metadata": {
    "colab": {
      "provenance": [],
      "gpuType": "T4",
      "authorship_tag": "ABX9TyMLzi/k/yGAhmHDhimfPAIk",
      "include_colab_link": true
    },
    "kernelspec": {
      "name": "python3",
      "display_name": "Python 3"
    },
    "language_info": {
      "name": "python"
    },
    "accelerator": "GPU",
    "gpuClass": "standard"
  },
  "cells": [
    {
      "cell_type": "markdown",
      "metadata": {
        "id": "view-in-github",
        "colab_type": "text"
      },
      "source": [
        "<a href=\"https://colab.research.google.com/github/evan-placenis/SkimLit-NLP/blob/main/SkimLit.ipynb\" target=\"_parent\"><img src=\"https://colab.research.google.com/assets/colab-badge.svg\" alt=\"Open In Colab\"/></a>"
      ]
    },
    {
      "cell_type": "code",
      "execution_count": null,
      "metadata": {
        "id": "QaZ-sieyKatT"
      },
      "outputs": [],
      "source": []
    },
    {
      "cell_type": "markdown",
      "source": [
        "##Getting Data\n",
        "Replicating PubMed 200k RCT paper"
      ],
      "metadata": {
        "id": "VWq7RtwdSeMD"
      }
    },
    {
      "cell_type": "code",
      "source": [
        "!git clone https://github.com/Franck-Dernoncourt/pubmed-rct.git\n",
        "!ls pubmed-rct"
      ],
      "metadata": {
        "colab": {
          "base_uri": "https://localhost:8080/"
        },
        "id": "go5EkBcqSfV0",
        "outputId": "f53cc781-5ffd-4d62-b062-38cf5bb300ba"
      },
      "execution_count": null,
      "outputs": [
        {
          "output_type": "stream",
          "name": "stdout",
          "text": [
            "Cloning into 'pubmed-rct'...\n",
            "remote: Enumerating objects: 33, done.\u001b[K\n",
            "remote: Counting objects: 100% (8/8), done.\u001b[K\n",
            "remote: Compressing objects: 100% (3/3), done.\u001b[K\n",
            "remote: Total 33 (delta 5), reused 5 (delta 5), pack-reused 25\u001b[K\n",
            "Unpacking objects: 100% (33/33), 177.08 MiB | 8.02 MiB/s, done.\n",
            "Updating files: 100% (13/13), done.\n",
            "PubMed_200k_RCT\n",
            "PubMed_200k_RCT_numbers_replaced_with_at_sign\n",
            "PubMed_20k_RCT\n",
            "PubMed_20k_RCT_numbers_replaced_with_at_sign\n",
            "README.md\n"
          ]
        }
      ]
    },
    {
      "cell_type": "code",
      "source": [
        "#check what files are in the PubMed_20k dataset\n",
        "!ls pubmed-rct/PubMed_20k_RCT_numbers_replaced_with_at_sign/"
      ],
      "metadata": {
        "colab": {
          "base_uri": "https://localhost:8080/"
        },
        "id": "HuR8Yj3WTJR0",
        "outputId": "b98a8b4c-5ec8-4822-b369-332747222b3c"
      },
      "execution_count": null,
      "outputs": [
        {
          "output_type": "stream",
          "name": "stdout",
          "text": [
            "dev.txt  test.txt  train.txt\n"
          ]
        }
      ]
    },
    {
      "cell_type": "code",
      "source": [
        "data_dir = \"/content/pubmed-rct/PubMed_20k_RCT_numbers_replaced_with_at_sign/\"\n",
        "\n",
        "import os\n",
        "filenames = [data_dir + filename for filename in os.listdir(data_dir)]\n",
        "filenames"
      ],
      "metadata": {
        "colab": {
          "base_uri": "https://localhost:8080/"
        },
        "id": "KMs5GA4DT6EU",
        "outputId": "8a0c97f6-e1b7-4cee-9662-91903ab16723"
      },
      "execution_count": null,
      "outputs": [
        {
          "output_type": "execute_result",
          "data": {
            "text/plain": [
              "['/content/pubmed-rct/PubMed_20k_RCT_numbers_replaced_with_at_sign/test.txt',\n",
              " '/content/pubmed-rct/PubMed_20k_RCT_numbers_replaced_with_at_sign/train.txt',\n",
              " '/content/pubmed-rct/PubMed_20k_RCT_numbers_replaced_with_at_sign/dev.txt']"
            ]
          },
          "metadata": {},
          "execution_count": 5
        }
      ]
    },
    {
      "cell_type": "code",
      "source": [
        "#function to read the lines of a txt file\n",
        "def get_lines(filename):\n",
        "  \"\"\"\n",
        "  Reads filename and returns the lines of text as a list\n",
        "\n",
        "  Args:\n",
        "    filename: a string containing the target filepath\n",
        "\n",
        "  Retruns:\n",
        "    A list of strings with one string per line from the target filename\n",
        "\n",
        "  \"\"\"\n",
        "  with open(filename, \"r\") as f:\n",
        "    return f.readlines()"
      ],
      "metadata": {
        "id": "FQhUSnUbUoRA"
      },
      "execution_count": null,
      "outputs": []
    },
    {
      "cell_type": "code",
      "source": [
        "train_lines = get_lines(data_dir+\"train.txt\")\n",
        "train_lines[:20]\n"
      ],
      "metadata": {
        "colab": {
          "base_uri": "https://localhost:8080/"
        },
        "id": "GbE7_YzpVbIy",
        "outputId": "29c1fa4c-9f56-4e5c-a83e-61811a28dc2a"
      },
      "execution_count": null,
      "outputs": [
        {
          "output_type": "execute_result",
          "data": {
            "text/plain": [
              "['###24293578\\n',\n",
              " 'OBJECTIVE\\tTo investigate the efficacy of @ weeks of daily low-dose oral prednisolone in improving pain , mobility , and systemic low-grade inflammation in the short term and whether the effect would be sustained at @ weeks in older adults with moderate to severe knee osteoarthritis ( OA ) .\\n',\n",
              " 'METHODS\\tA total of @ patients with primary knee OA were randomized @:@ ; @ received @ mg/day of prednisolone and @ received placebo for @ weeks .\\n',\n",
              " 'METHODS\\tOutcome measures included pain reduction and improvement in function scores and systemic inflammation markers .\\n',\n",
              " 'METHODS\\tPain was assessed using the visual analog pain scale ( @-@ mm ) .\\n',\n",
              " 'METHODS\\tSecondary outcome measures included the Western Ontario and McMaster Universities Osteoarthritis Index scores , patient global assessment ( PGA ) of the severity of knee OA , and @-min walk distance ( @MWD ) .\\n',\n",
              " 'METHODS\\tSerum levels of interleukin @ ( IL-@ ) , IL-@ , tumor necrosis factor ( TNF ) - , and high-sensitivity C-reactive protein ( hsCRP ) were measured .\\n',\n",
              " 'RESULTS\\tThere was a clinically relevant reduction in the intervention group compared to the placebo group for knee pain , physical function , PGA , and @MWD at @ weeks .\\n',\n",
              " 'RESULTS\\tThe mean difference between treatment arms ( @ % CI ) was @ ( @-@ @ ) , p < @ ; @ ( @-@ @ ) , p < @ ; @ ( @-@ @ ) , p < @ ; and @ ( @-@ @ ) , p < @ , respectively .\\n',\n",
              " 'RESULTS\\tFurther , there was a clinically relevant reduction in the serum levels of IL-@ , IL-@ , TNF - , and hsCRP at @ weeks in the intervention group when compared to the placebo group .\\n',\n",
              " 'RESULTS\\tThese differences remained significant at @ weeks .\\n',\n",
              " 'RESULTS\\tThe Outcome Measures in Rheumatology Clinical Trials-Osteoarthritis Research Society International responder rate was @ % in the intervention group and @ % in the placebo group ( p < @ ) .\\n',\n",
              " 'CONCLUSIONS\\tLow-dose oral prednisolone had both a short-term and a longer sustained effect resulting in less knee pain , better physical function , and attenuation of systemic inflammation in older patients with knee OA ( ClinicalTrials.gov identifier NCT@ ) .\\n',\n",
              " '\\n',\n",
              " '###24854809\\n',\n",
              " 'BACKGROUND\\tEmotional eating is associated with overeating and the development of obesity .\\n',\n",
              " 'BACKGROUND\\tYet , empirical evidence for individual ( trait ) differences in emotional eating and cognitive mechanisms that contribute to eating during sad mood remain equivocal .\\n',\n",
              " 'OBJECTIVE\\tThe aim of this study was to test if attention bias for food moderates the effect of self-reported emotional eating during sad mood ( vs neutral mood ) on actual food intake .\\n',\n",
              " 'OBJECTIVE\\tIt was expected that emotional eating is predictive of elevated attention for food and higher food intake after an experimentally induced sad mood and that attentional maintenance on food predicts food intake during a sad versus a neutral mood .\\n',\n",
              " 'METHODS\\tParticipants ( N = @ ) were randomly assigned to one of the two experimental mood induction conditions ( sad/neutral ) .\\n']"
            ]
          },
          "metadata": {},
          "execution_count": 7
        }
      ]
    },
    {
      "cell_type": "code",
      "source": [
        "def preprocess_text_with_line_numbers(filename):\n",
        "  \"\"\"\n",
        "  Returns a list of dictionaries of abstract line data\n",
        "\n",
        "  Takes in filename, reads it contents and sorts through each line,\n",
        "  extracting the target label, the text of the sentence,\n",
        "  how many sentences are in the current abstract and what sentence\n",
        "  number the target line is.\n",
        "  \"\"\"\n",
        "  input_lines = get_lines(filename) #get all lines from filename\n",
        "  abstract_lines = \"\" #create an empty abstract\n",
        "  abstract_samples = [] #creat an empty list of abstracts\n",
        "\n",
        "  for line in input_lines:\n",
        "    if line.startswith(\"###\"): #new abstract is starting\n",
        "      abstract_id = line\n",
        "      abstract_lines = \"\"\n",
        "    elif line.isspace(): #check if line is a new line\n",
        "      abstract_line_split = abstract_lines.splitlines()\n",
        "\n",
        "      #iterate through each line and count them\n",
        "      for abstract_line_number, abstract_line in enumerate(abstract_line_split):\n",
        "        line_data = {} #creat an empty dictionary for each line\n",
        "        target_text_split = abstract_line.split(\"\\t\")\n",
        "        line_data[\"line_number\"] = abstract_line_number #what line number does this occur at\n",
        "        line_data[\"target\"] = target_text_split[0] #get target label\n",
        "        line_data[\"text\"] = target_text_split[1].lower() # get target text and lower it\n",
        "        line_data[\"total_lines\"] = len(abstract_line_split) - 1 #how many total lines are there in the target abstract? (start from 0)\n",
        "        abstract_samples.append(line_data)\n",
        "\n",
        "    else: #if the above conditions aren't fulfilled, the line contains a labelled sentence\n",
        "      abstract_lines += line\n",
        "\n",
        "  return abstract_samples\n",
        "\n"
      ],
      "metadata": {
        "id": "MaU7-GegYuu2"
      },
      "execution_count": null,
      "outputs": []
    },
    {
      "cell_type": "code",
      "source": [],
      "metadata": {
        "id": "IoUnenendxO_"
      },
      "execution_count": null,
      "outputs": []
    },
    {
      "cell_type": "code",
      "source": [
        "%%time\n",
        "train_samples = preprocess_text_with_line_numbers(data_dir + \"train.txt\")\n",
        "val_samples = preprocess_text_with_line_numbers(data_dir + \"dev.txt\")\n",
        "test_samples = preprocess_text_with_line_numbers(data_dir + \"test.txt\")\n",
        "\n",
        "print(len(train_samples), len(val_samples), len(test_samples))"
      ],
      "metadata": {
        "colab": {
          "base_uri": "https://localhost:8080/"
        },
        "id": "CxN6SYUydg3i",
        "outputId": "da9ed457-1c42-4746-c786-55a6f8ed6bfc"
      },
      "execution_count": null,
      "outputs": [
        {
          "output_type": "stream",
          "name": "stdout",
          "text": [
            "180040 30212 30135\n",
            "CPU times: user 577 ms, sys: 95.3 ms, total: 673 ms\n",
            "Wall time: 817 ms\n"
          ]
        }
      ]
    },
    {
      "cell_type": "code",
      "source": [
        "#check the first abstract of our training data\n",
        "train_samples[:14]"
      ],
      "metadata": {
        "colab": {
          "base_uri": "https://localhost:8080/"
        },
        "id": "V5KOLudbeOM3",
        "outputId": "308e360e-8bff-4ca8-e105-b067051fe0fe"
      },
      "execution_count": null,
      "outputs": [
        {
          "output_type": "execute_result",
          "data": {
            "text/plain": [
              "[{'line_number': 0,\n",
              "  'target': 'OBJECTIVE',\n",
              "  'text': 'to investigate the efficacy of @ weeks of daily low-dose oral prednisolone in improving pain , mobility , and systemic low-grade inflammation in the short term and whether the effect would be sustained at @ weeks in older adults with moderate to severe knee osteoarthritis ( oa ) .',\n",
              "  'total_lines': 11},\n",
              " {'line_number': 1,\n",
              "  'target': 'METHODS',\n",
              "  'text': 'a total of @ patients with primary knee oa were randomized @:@ ; @ received @ mg/day of prednisolone and @ received placebo for @ weeks .',\n",
              "  'total_lines': 11},\n",
              " {'line_number': 2,\n",
              "  'target': 'METHODS',\n",
              "  'text': 'outcome measures included pain reduction and improvement in function scores and systemic inflammation markers .',\n",
              "  'total_lines': 11},\n",
              " {'line_number': 3,\n",
              "  'target': 'METHODS',\n",
              "  'text': 'pain was assessed using the visual analog pain scale ( @-@ mm ) .',\n",
              "  'total_lines': 11},\n",
              " {'line_number': 4,\n",
              "  'target': 'METHODS',\n",
              "  'text': 'secondary outcome measures included the western ontario and mcmaster universities osteoarthritis index scores , patient global assessment ( pga ) of the severity of knee oa , and @-min walk distance ( @mwd ) .',\n",
              "  'total_lines': 11},\n",
              " {'line_number': 5,\n",
              "  'target': 'METHODS',\n",
              "  'text': 'serum levels of interleukin @ ( il-@ ) , il-@ , tumor necrosis factor ( tnf ) - , and high-sensitivity c-reactive protein ( hscrp ) were measured .',\n",
              "  'total_lines': 11},\n",
              " {'line_number': 6,\n",
              "  'target': 'RESULTS',\n",
              "  'text': 'there was a clinically relevant reduction in the intervention group compared to the placebo group for knee pain , physical function , pga , and @mwd at @ weeks .',\n",
              "  'total_lines': 11},\n",
              " {'line_number': 7,\n",
              "  'target': 'RESULTS',\n",
              "  'text': 'the mean difference between treatment arms ( @ % ci ) was @ ( @-@ @ ) , p < @ ; @ ( @-@ @ ) , p < @ ; @ ( @-@ @ ) , p < @ ; and @ ( @-@ @ ) , p < @ , respectively .',\n",
              "  'total_lines': 11},\n",
              " {'line_number': 8,\n",
              "  'target': 'RESULTS',\n",
              "  'text': 'further , there was a clinically relevant reduction in the serum levels of il-@ , il-@ , tnf - , and hscrp at @ weeks in the intervention group when compared to the placebo group .',\n",
              "  'total_lines': 11},\n",
              " {'line_number': 9,\n",
              "  'target': 'RESULTS',\n",
              "  'text': 'these differences remained significant at @ weeks .',\n",
              "  'total_lines': 11},\n",
              " {'line_number': 10,\n",
              "  'target': 'RESULTS',\n",
              "  'text': 'the outcome measures in rheumatology clinical trials-osteoarthritis research society international responder rate was @ % in the intervention group and @ % in the placebo group ( p < @ ) .',\n",
              "  'total_lines': 11},\n",
              " {'line_number': 11,\n",
              "  'target': 'CONCLUSIONS',\n",
              "  'text': 'low-dose oral prednisolone had both a short-term and a longer sustained effect resulting in less knee pain , better physical function , and attenuation of systemic inflammation in older patients with knee oa ( clinicaltrials.gov identifier nct@ ) .',\n",
              "  'total_lines': 11},\n",
              " {'line_number': 0,\n",
              "  'target': 'BACKGROUND',\n",
              "  'text': 'emotional eating is associated with overeating and the development of obesity .',\n",
              "  'total_lines': 10},\n",
              " {'line_number': 1,\n",
              "  'target': 'BACKGROUND',\n",
              "  'text': 'yet , empirical evidence for individual ( trait ) differences in emotional eating and cognitive mechanisms that contribute to eating during sad mood remain equivocal .',\n",
              "  'total_lines': 10}]"
            ]
          },
          "metadata": {},
          "execution_count": 10
        }
      ]
    },
    {
      "cell_type": "code",
      "source": [
        "import pandas as pd\n",
        "train_df = pd.DataFrame(train_samples)\n",
        "val_df = pd.DataFrame(val_samples)\n",
        "test_df = pd.DataFrame(test_samples)\n",
        "val_df.head(14)"
      ],
      "metadata": {
        "colab": {
          "base_uri": "https://localhost:8080/",
          "height": 488
        },
        "id": "hi2oKt-Kf9Tg",
        "outputId": "255389f9-709c-4dae-ed1a-dc1f7f80a304"
      },
      "execution_count": null,
      "outputs": [
        {
          "output_type": "execute_result",
          "data": {
            "text/plain": [
              "    line_number       target  \\\n",
              "0             0   BACKGROUND   \n",
              "1             1   BACKGROUND   \n",
              "2             2    OBJECTIVE   \n",
              "3             3      METHODS   \n",
              "4             4      METHODS   \n",
              "5             5      RESULTS   \n",
              "6             6      RESULTS   \n",
              "7             7      RESULTS   \n",
              "8             8      RESULTS   \n",
              "9             9  CONCLUSIONS   \n",
              "10            0   BACKGROUND   \n",
              "11            1   BACKGROUND   \n",
              "12            2   BACKGROUND   \n",
              "13            3    OBJECTIVE   \n",
              "\n",
              "                                                 text  total_lines  \n",
              "0   ige sensitization to aspergillus fumigatus and...            9  \n",
              "1   it is not clear whether these patients would b...            9  \n",
              "2   we sought to determine whether a @-month cours...            9  \n",
              "3   asthmatic patients who were ige sensitized to ...            9  \n",
              "4   primary outcomes were improvement in quality o...            9  \n",
              "5               sixty-five patients were randomized .            9  \n",
              "6   fifty-nine patients started treatment ( @ rece...            9  \n",
              "7   fifty-six patients took the full @ months of m...            9  \n",
              "8   between the voriconazole and placebo groups , ...            9  \n",
              "9   we were unable to show a beneficial effect of ...            9  \n",
              "10  opioid antagonists ( e.g. , naltrexone ) and p...           10  \n",
              "11  the use of higher doses to achieve greater eff...           10  \n",
              "12  combining naltrexone and alprazolam might safe...           10  \n",
              "13  the present pilot study tested the hypothesis ...           10  "
            ],
            "text/html": [
              "\n",
              "  <div id=\"df-6063aabb-349d-4c2c-9c04-ce271e4dac46\">\n",
              "    <div class=\"colab-df-container\">\n",
              "      <div>\n",
              "<style scoped>\n",
              "    .dataframe tbody tr th:only-of-type {\n",
              "        vertical-align: middle;\n",
              "    }\n",
              "\n",
              "    .dataframe tbody tr th {\n",
              "        vertical-align: top;\n",
              "    }\n",
              "\n",
              "    .dataframe thead th {\n",
              "        text-align: right;\n",
              "    }\n",
              "</style>\n",
              "<table border=\"1\" class=\"dataframe\">\n",
              "  <thead>\n",
              "    <tr style=\"text-align: right;\">\n",
              "      <th></th>\n",
              "      <th>line_number</th>\n",
              "      <th>target</th>\n",
              "      <th>text</th>\n",
              "      <th>total_lines</th>\n",
              "    </tr>\n",
              "  </thead>\n",
              "  <tbody>\n",
              "    <tr>\n",
              "      <th>0</th>\n",
              "      <td>0</td>\n",
              "      <td>BACKGROUND</td>\n",
              "      <td>ige sensitization to aspergillus fumigatus and...</td>\n",
              "      <td>9</td>\n",
              "    </tr>\n",
              "    <tr>\n",
              "      <th>1</th>\n",
              "      <td>1</td>\n",
              "      <td>BACKGROUND</td>\n",
              "      <td>it is not clear whether these patients would b...</td>\n",
              "      <td>9</td>\n",
              "    </tr>\n",
              "    <tr>\n",
              "      <th>2</th>\n",
              "      <td>2</td>\n",
              "      <td>OBJECTIVE</td>\n",
              "      <td>we sought to determine whether a @-month cours...</td>\n",
              "      <td>9</td>\n",
              "    </tr>\n",
              "    <tr>\n",
              "      <th>3</th>\n",
              "      <td>3</td>\n",
              "      <td>METHODS</td>\n",
              "      <td>asthmatic patients who were ige sensitized to ...</td>\n",
              "      <td>9</td>\n",
              "    </tr>\n",
              "    <tr>\n",
              "      <th>4</th>\n",
              "      <td>4</td>\n",
              "      <td>METHODS</td>\n",
              "      <td>primary outcomes were improvement in quality o...</td>\n",
              "      <td>9</td>\n",
              "    </tr>\n",
              "    <tr>\n",
              "      <th>5</th>\n",
              "      <td>5</td>\n",
              "      <td>RESULTS</td>\n",
              "      <td>sixty-five patients were randomized .</td>\n",
              "      <td>9</td>\n",
              "    </tr>\n",
              "    <tr>\n",
              "      <th>6</th>\n",
              "      <td>6</td>\n",
              "      <td>RESULTS</td>\n",
              "      <td>fifty-nine patients started treatment ( @ rece...</td>\n",
              "      <td>9</td>\n",
              "    </tr>\n",
              "    <tr>\n",
              "      <th>7</th>\n",
              "      <td>7</td>\n",
              "      <td>RESULTS</td>\n",
              "      <td>fifty-six patients took the full @ months of m...</td>\n",
              "      <td>9</td>\n",
              "    </tr>\n",
              "    <tr>\n",
              "      <th>8</th>\n",
              "      <td>8</td>\n",
              "      <td>RESULTS</td>\n",
              "      <td>between the voriconazole and placebo groups , ...</td>\n",
              "      <td>9</td>\n",
              "    </tr>\n",
              "    <tr>\n",
              "      <th>9</th>\n",
              "      <td>9</td>\n",
              "      <td>CONCLUSIONS</td>\n",
              "      <td>we were unable to show a beneficial effect of ...</td>\n",
              "      <td>9</td>\n",
              "    </tr>\n",
              "    <tr>\n",
              "      <th>10</th>\n",
              "      <td>0</td>\n",
              "      <td>BACKGROUND</td>\n",
              "      <td>opioid antagonists ( e.g. , naltrexone ) and p...</td>\n",
              "      <td>10</td>\n",
              "    </tr>\n",
              "    <tr>\n",
              "      <th>11</th>\n",
              "      <td>1</td>\n",
              "      <td>BACKGROUND</td>\n",
              "      <td>the use of higher doses to achieve greater eff...</td>\n",
              "      <td>10</td>\n",
              "    </tr>\n",
              "    <tr>\n",
              "      <th>12</th>\n",
              "      <td>2</td>\n",
              "      <td>BACKGROUND</td>\n",
              "      <td>combining naltrexone and alprazolam might safe...</td>\n",
              "      <td>10</td>\n",
              "    </tr>\n",
              "    <tr>\n",
              "      <th>13</th>\n",
              "      <td>3</td>\n",
              "      <td>OBJECTIVE</td>\n",
              "      <td>the present pilot study tested the hypothesis ...</td>\n",
              "      <td>10</td>\n",
              "    </tr>\n",
              "  </tbody>\n",
              "</table>\n",
              "</div>\n",
              "      <button class=\"colab-df-convert\" onclick=\"convertToInteractive('df-6063aabb-349d-4c2c-9c04-ce271e4dac46')\"\n",
              "              title=\"Convert this dataframe to an interactive table.\"\n",
              "              style=\"display:none;\">\n",
              "        \n",
              "  <svg xmlns=\"http://www.w3.org/2000/svg\" height=\"24px\"viewBox=\"0 0 24 24\"\n",
              "       width=\"24px\">\n",
              "    <path d=\"M0 0h24v24H0V0z\" fill=\"none\"/>\n",
              "    <path d=\"M18.56 5.44l.94 2.06.94-2.06 2.06-.94-2.06-.94-.94-2.06-.94 2.06-2.06.94zm-11 1L8.5 8.5l.94-2.06 2.06-.94-2.06-.94L8.5 2.5l-.94 2.06-2.06.94zm10 10l.94 2.06.94-2.06 2.06-.94-2.06-.94-.94-2.06-.94 2.06-2.06.94z\"/><path d=\"M17.41 7.96l-1.37-1.37c-.4-.4-.92-.59-1.43-.59-.52 0-1.04.2-1.43.59L10.3 9.45l-7.72 7.72c-.78.78-.78 2.05 0 2.83L4 21.41c.39.39.9.59 1.41.59.51 0 1.02-.2 1.41-.59l7.78-7.78 2.81-2.81c.8-.78.8-2.07 0-2.86zM5.41 20L4 18.59l7.72-7.72 1.47 1.35L5.41 20z\"/>\n",
              "  </svg>\n",
              "      </button>\n",
              "      \n",
              "  <style>\n",
              "    .colab-df-container {\n",
              "      display:flex;\n",
              "      flex-wrap:wrap;\n",
              "      gap: 12px;\n",
              "    }\n",
              "\n",
              "    .colab-df-convert {\n",
              "      background-color: #E8F0FE;\n",
              "      border: none;\n",
              "      border-radius: 50%;\n",
              "      cursor: pointer;\n",
              "      display: none;\n",
              "      fill: #1967D2;\n",
              "      height: 32px;\n",
              "      padding: 0 0 0 0;\n",
              "      width: 32px;\n",
              "    }\n",
              "\n",
              "    .colab-df-convert:hover {\n",
              "      background-color: #E2EBFA;\n",
              "      box-shadow: 0px 1px 2px rgba(60, 64, 67, 0.3), 0px 1px 3px 1px rgba(60, 64, 67, 0.15);\n",
              "      fill: #174EA6;\n",
              "    }\n",
              "\n",
              "    [theme=dark] .colab-df-convert {\n",
              "      background-color: #3B4455;\n",
              "      fill: #D2E3FC;\n",
              "    }\n",
              "\n",
              "    [theme=dark] .colab-df-convert:hover {\n",
              "      background-color: #434B5C;\n",
              "      box-shadow: 0px 1px 3px 1px rgba(0, 0, 0, 0.15);\n",
              "      filter: drop-shadow(0px 1px 2px rgba(0, 0, 0, 0.3));\n",
              "      fill: #FFFFFF;\n",
              "    }\n",
              "  </style>\n",
              "\n",
              "      <script>\n",
              "        const buttonEl =\n",
              "          document.querySelector('#df-6063aabb-349d-4c2c-9c04-ce271e4dac46 button.colab-df-convert');\n",
              "        buttonEl.style.display =\n",
              "          google.colab.kernel.accessAllowed ? 'block' : 'none';\n",
              "\n",
              "        async function convertToInteractive(key) {\n",
              "          const element = document.querySelector('#df-6063aabb-349d-4c2c-9c04-ce271e4dac46');\n",
              "          const dataTable =\n",
              "            await google.colab.kernel.invokeFunction('convertToInteractive',\n",
              "                                                     [key], {});\n",
              "          if (!dataTable) return;\n",
              "\n",
              "          const docLinkHtml = 'Like what you see? Visit the ' +\n",
              "            '<a target=\"_blank\" href=https://colab.research.google.com/notebooks/data_table.ipynb>data table notebook</a>'\n",
              "            + ' to learn more about interactive tables.';\n",
              "          element.innerHTML = '';\n",
              "          dataTable['output_type'] = 'display_data';\n",
              "          await google.colab.output.renderOutput(dataTable, element);\n",
              "          const docLink = document.createElement('div');\n",
              "          docLink.innerHTML = docLinkHtml;\n",
              "          element.appendChild(docLink);\n",
              "        }\n",
              "      </script>\n",
              "    </div>\n",
              "  </div>\n",
              "  "
            ]
          },
          "metadata": {},
          "execution_count": 11
        }
      ]
    },
    {
      "cell_type": "code",
      "source": [
        "train_df.target.value_counts()"
      ],
      "metadata": {
        "colab": {
          "base_uri": "https://localhost:8080/"
        },
        "id": "0MVH4j81gf2j",
        "outputId": "adaf792d-6306-4ec7-c874-aa020c294af4"
      },
      "execution_count": null,
      "outputs": [
        {
          "output_type": "execute_result",
          "data": {
            "text/plain": [
              "METHODS        59353\n",
              "RESULTS        57953\n",
              "CONCLUSIONS    27168\n",
              "BACKGROUND     21727\n",
              "OBJECTIVE      13839\n",
              "Name: target, dtype: int64"
            ]
          },
          "metadata": {},
          "execution_count": 12
        }
      ]
    },
    {
      "cell_type": "code",
      "source": [
        "train_df.total_lines.plot.hist()"
      ],
      "metadata": {
        "colab": {
          "base_uri": "https://localhost:8080/",
          "height": 448
        },
        "id": "j-AHIrtGgrdO",
        "outputId": "abbeba11-ae53-4658-dcf0-af1e778d357d"
      },
      "execution_count": null,
      "outputs": [
        {
          "output_type": "execute_result",
          "data": {
            "text/plain": [
              "<Axes: ylabel='Frequency'>"
            ]
          },
          "metadata": {},
          "execution_count": 13
        },
        {
          "output_type": "display_data",
          "data": {
            "text/plain": [
              "<Figure size 640x480 with 1 Axes>"
            ],
            "image/png": "[encoded data removed]"
          },
          "metadata": {}
        }
      ]
    },
    {
      "cell_type": "markdown",
      "source": [
        "Get list of sentences"
      ],
      "metadata": {
        "id": "fJHN4EMug5N9"
      }
    },
    {
      "cell_type": "code",
      "source": [
        "#convert abstract text lines into lists\n",
        "train_sentences = train_df[\"text\"].tolist()\n",
        "val_sentences = val_df[\"text\"].tolist()\n",
        "test_sentences = test_df[\"text\"].tolist()\n",
        "\n",
        "print(len(train_sentences), len(val_sentences), len(test_sentences))"
      ],
      "metadata": {
        "colab": {
          "base_uri": "https://localhost:8080/"
        },
        "id": "cQLgyA4Pg7x2",
        "outputId": "d7f26dde-8bf3-4926-a8a3-6a11fdd0aa77"
      },
      "execution_count": null,
      "outputs": [
        {
          "output_type": "stream",
          "name": "stdout",
          "text": [
            "180040 30212 30135\n"
          ]
        }
      ]
    },
    {
      "cell_type": "markdown",
      "source": [
        "##Make numeric labels"
      ],
      "metadata": {
        "id": "R2ZdKfhchl1C"
      }
    },
    {
      "cell_type": "code",
      "source": [
        "# One hot encode labels\n",
        "from sklearn.preprocessing import OneHotEncoder\n",
        "import tensorflow as tf\n",
        "\n",
        "one_hot_encoder = OneHotEncoder(sparse_output=False)\n",
        "train_labels_one_hot = one_hot_encoder.fit_transform(train_df[\"target\"].to_numpy().reshape(-1,1))\n",
        "val_labels_one_hot = one_hot_encoder.transform(val_df[\"target\"].to_numpy().reshape(-1,1))\n",
        "test_labels_one_hot = one_hot_encoder.transform(test_df[\"target\"].to_numpy().reshape(-1,1))\n",
        "\n",
        "train_labels_one_hot"
      ],
      "metadata": {
        "colab": {
          "base_uri": "https://localhost:8080/"
        },
        "id": "sj_waOgCht92",
        "outputId": "d6509bc0-e9c8-4ee7-ab8c-3ccd0c7f19bd"
      },
      "execution_count": null,
      "outputs": [
        {
          "output_type": "execute_result",
          "data": {
            "text/plain": [
              "array([[0., 0., 0., 1., 0.],\n",
              "       [0., 0., 1., 0., 0.],\n",
              "       [0., 0., 1., 0., 0.],\n",
              "       ...,\n",
              "       [0., 0., 0., 0., 1.],\n",
              "       [0., 1., 0., 0., 0.],\n",
              "       [0., 1., 0., 0., 0.]])"
            ]
          },
          "metadata": {},
          "execution_count": 15
        }
      ]
    },
    {
      "cell_type": "code",
      "source": [
        "#exctract labels(\"target\" columns) and encode them into integers\n",
        "from sklearn.preprocessing import LabelEncoder\n",
        "label_encoder = LabelEncoder()\n",
        "train_labels_encoded = label_encoder.fit_transform(train_df[\"target\"].to_numpy())\n",
        "val_labels_encoded = label_encoder.transform(val_df[\"target\"].to_numpy())\n",
        "test_labels_encoded = label_encoder.transform(test_df[\"target\"].to_numpy())\n",
        "\n",
        "val_labels_encoded"
      ],
      "metadata": {
        "colab": {
          "base_uri": "https://localhost:8080/"
        },
        "id": "0gbTTN7MjHcI",
        "outputId": "6d99211d-db4f-4202-ce9b-2866b5df6977"
      },
      "execution_count": null,
      "outputs": [
        {
          "output_type": "execute_result",
          "data": {
            "text/plain": [
              "array([0, 0, 3, ..., 4, 1, 1])"
            ]
          },
          "metadata": {},
          "execution_count": 16
        }
      ]
    },
    {
      "cell_type": "code",
      "source": [
        "#get class names and number of classes from LabelEncoder instance\n",
        "num_classes = len(label_encoder.classes_)\n",
        "class_names = label_encoder.classes_\n",
        "\n",
        "class_names"
      ],
      "metadata": {
        "colab": {
          "base_uri": "https://localhost:8080/"
        },
        "id": "mzyrnFxfjj4n",
        "outputId": "a8d79b0d-3880-4d17-a04e-ce9a3e8f9f1e"
      },
      "execution_count": null,
      "outputs": [
        {
          "output_type": "execute_result",
          "data": {
            "text/plain": [
              "array(['BACKGROUND', 'CONCLUSIONS', 'METHODS', 'OBJECTIVE', 'RESULTS'],\n",
              "      dtype=object)"
            ]
          },
          "metadata": {},
          "execution_count": 17
        }
      ]
    },
    {
      "cell_type": "markdown",
      "source": [
        "##Model 0: TF-IDF Multinomial Naive Bays Classifier (baseline)"
      ],
      "metadata": {
        "id": "tiFQAOv0c9oC"
      }
    },
    {
      "cell_type": "code",
      "source": [
        "from sklearn.feature_extraction.text import TfidfVectorizer\n",
        "from sklearn.naive_bayes import MultinomialNB\n",
        "from sklearn.pipeline import Pipeline\n",
        "\n",
        "model_0 = Pipeline([\n",
        "    (\"tf-idf\", TfidfVectorizer()),\n",
        "    (\"clf\", MultinomialNB())\n",
        "])\n",
        "\n",
        "#fit the pipeline to the training data\n",
        "model_0.fit(X = train_sentences,\n",
        "            y = train_labels_encoded)\n",
        "\n"
      ],
      "metadata": {
        "colab": {
          "base_uri": "https://localhost:8080/",
          "height": 124
        },
        "id": "502BxB8wdGGK",
        "outputId": "b8c63448-9717-47d7-b80e-a8886b2ef7cf"
      },
      "execution_count": null,
      "outputs": [
        {
          "output_type": "execute_result",
          "data": {
            "text/plain": [
              "Pipeline(steps=[('tf-idf', TfidfVectorizer()), ('clf', MultinomialNB())])"
            ],
            "text/html": [
              "<style>#sk-container-id-1 {color: black;background-color: white;}#sk-container-id-1 pre{padding: 0;}#sk-container-id-1 div.sk-toggleable {background-color: white;}#sk-container-id-1 label.sk-toggleable__label {cursor: pointer;display: block;width: 100%;margin-bottom: 0;padding: 0.3em;box-sizing: border-box;text-align: center;}#sk-container-id-1 label.sk-toggleable__label-arrow:before {content: \"▸\";float: left;margin-right: 0.25em;color: #696969;}#sk-container-id-1 label.sk-toggleable__label-arrow:hover:before {color: black;}#sk-container-id-1 div.sk-estimator:hover label.sk-toggleable__label-arrow:before {color: black;}#sk-container-id-1 div.sk-toggleable__content {max-height: 0;max-width: 0;overflow: hidden;text-align: left;background-color: #f0f8ff;}#sk-container-id-1 div.sk-toggleable__content pre {margin: 0.2em;color: black;border-radius: 0.25em;background-color: #f0f8ff;}#sk-container-id-1 input.sk-toggleable__control:checked~div.sk-toggleable__content {max-height: 200px;max-width: 100%;overflow: auto;}#sk-container-id-1 input.sk-toggleable__control:checked~label.sk-toggleable__label-arrow:before {content: \"▾\";}#sk-container-id-1 div.sk-estimator input.sk-toggleable__control:checked~label.sk-toggleable__label {background-color: #d4ebff;}#sk-container-id-1 div.sk-label input.sk-toggleable__control:checked~label.sk-toggleable__label {background-color: #d4ebff;}#sk-container-id-1 input.sk-hidden--visually {border: 0;clip: rect(1px 1px 1px 1px);clip: rect(1px, 1px, 1px, 1px);height: 1px;margin: -1px;overflow: hidden;padding: 0;position: absolute;width: 1px;}#sk-container-id-1 div.sk-estimator {font-family: monospace;background-color: #f0f8ff;border: 1px dotted black;border-radius: 0.25em;box-sizing: border-box;margin-bottom: 0.5em;}#sk-container-id-1 div.sk-estimator:hover {background-color: #d4ebff;}#sk-container-id-1 div.sk-parallel-item::after {content: \"\";width: 100%;border-bottom: 1px solid gray;flex-grow: 1;}#sk-container-id-1 div.sk-label:hover label.sk-toggleable__label {background-color: #d4ebff;}#sk-container-id-1 div.sk-serial::before {content: \"\";position: absolute;border-left: 1px solid gray;box-sizing: border-box;top: 0;bottom: 0;left: 50%;z-index: 0;}#sk-container-id-1 div.sk-serial {display: flex;flex-direction: column;align-items: center;background-color: white;padding-right: 0.2em;padding-left: 0.2em;position: relative;}#sk-container-id-1 div.sk-item {position: relative;z-index: 1;}#sk-container-id-1 div.sk-parallel {display: flex;align-items: stretch;justify-content: center;background-color: white;position: relative;}#sk-container-id-1 div.sk-item::before, #sk-container-id-1 div.sk-parallel-item::before {content: \"\";position: absolute;border-left: 1px solid gray;box-sizing: border-box;top: 0;bottom: 0;left: 50%;z-index: -1;}#sk-container-id-1 div.sk-parallel-item {display: flex;flex-direction: column;z-index: 1;position: relative;background-color: white;}#sk-container-id-1 div.sk-parallel-item:first-child::after {align-self: flex-end;width: 50%;}#sk-container-id-1 div.sk-parallel-item:last-child::after {align-self: flex-start;width: 50%;}#sk-container-id-1 div.sk-parallel-item:only-child::after {width: 0;}#sk-container-id-1 div.sk-dashed-wrapped {border: 1px dashed gray;margin: 0 0.4em 0.5em 0.4em;box-sizing: border-box;padding-bottom: 0.4em;background-color: white;}#sk-container-id-1 div.sk-label label {font-family: monospace;font-weight: bold;display: inline-block;line-height: 1.2em;}#sk-container-id-1 div.sk-label-container {text-align: center;}#sk-container-id-1 div.sk-container {/* jupyter's `normalize.less` sets `[hidden] { display: none; }` but bootstrap.min.css set `[hidden] { display: none !important; }` so we also need the `!important` here to be able to override the default hidden behavior on the sphinx rendered scikit-learn.org. See: https://github.com/scikit-learn/scikit-learn/issues/21755 */display: inline-block !important;position: relative;}#sk-container-id-1 div.sk-text-repr-fallback {display: none;}</style><div id=\"sk-container-id-1\" class=\"sk-top-container\"><div class=\"sk-text-repr-fallback\"><pre>Pipeline(steps=[(&#x27;tf-idf&#x27;, TfidfVectorizer()), (&#x27;clf&#x27;, MultinomialNB())])</pre><b>In a Jupyter environment, please rerun this cell to show the HTML representation or trust the notebook. <br />On GitHub, the HTML representation is unable to render, please try loading this page with nbviewer.org.</b></div><div class=\"sk-container\" hidden><div class=\"sk-item sk-dashed-wrapped\"><div class=\"sk-label-container\"><div class=\"sk-label sk-toggleable\"><input class=\"sk-toggleable__control sk-hidden--visually\" id=\"sk-estimator-id-1\" type=\"checkbox\" ><label for=\"sk-estimator-id-1\" class=\"sk-toggleable__label sk-toggleable__label-arrow\">Pipeline</label><div class=\"sk-toggleable__content\"><pre>Pipeline(steps=[(&#x27;tf-idf&#x27;, TfidfVectorizer()), (&#x27;clf&#x27;, MultinomialNB())])</pre></div></div></div><div class=\"sk-serial\"><div class=\"sk-item\"><div class=\"sk-estimator sk-toggleable\"><input class=\"sk-toggleable__control sk-hidden--visually\" id=\"sk-estimator-id-2\" type=\"checkbox\" ><label for=\"sk-estimator-id-2\" class=\"sk-toggleable__label sk-toggleable__label-arrow\">TfidfVectorizer</label><div class=\"sk-toggleable__content\"><pre>TfidfVectorizer()</pre></div></div></div><div class=\"sk-item\"><div class=\"sk-estimator sk-toggleable\"><input class=\"sk-toggleable__control sk-hidden--visually\" id=\"sk-estimator-id-3\" type=\"checkbox\" ><label for=\"sk-estimator-id-3\" class=\"sk-toggleable__label sk-toggleable__label-arrow\">MultinomialNB</label><div class=\"sk-toggleable__content\"><pre>MultinomialNB()</pre></div></div></div></div></div></div></div>"
            ]
          },
          "metadata": {},
          "execution_count": 18
        }
      ]
    },
    {
      "cell_type": "code",
      "source": [
        "#Evaluate on val data\n",
        "model_0.score(X = val_sentences,\n",
        "              y = val_labels_encoded)"
      ],
      "metadata": {
        "colab": {
          "base_uri": "https://localhost:8080/"
        },
        "id": "EDeuMpDAehpL",
        "outputId": "19539637-9599-4887-fa33-65f98f615c42"
      },
      "execution_count": null,
      "outputs": [
        {
          "output_type": "execute_result",
          "data": {
            "text/plain": [
              "0.7218323844829869"
            ]
          },
          "metadata": {},
          "execution_count": 19
        }
      ]
    },
    {
      "cell_type": "code",
      "source": [
        "#make predictions useing our baseline\n",
        "baseline_preds = model_0.predict(val_sentences)"
      ],
      "metadata": {
        "id": "gOzNNTiud1CU"
      },
      "execution_count": null,
      "outputs": []
    },
    {
      "cell_type": "markdown",
      "source": [],
      "metadata": {
        "id": "JgT5iLsHfO4Q"
      }
    },
    {
      "cell_type": "code",
      "source": [
        "!wget https://raw.githubusercontent.com/mrdbourke/tensorflow-deep-learning/main/extras/helper_functions.py"
      ],
      "metadata": {
        "colab": {
          "base_uri": "https://localhost:8080/"
        },
        "id": "mzpIrY4ZdZWa",
        "outputId": "5903b6a3-9378-4215-c4f1-c6357a935618"
      },
      "execution_count": null,
      "outputs": [
        {
          "output_type": "stream",
          "name": "stdout",
          "text": [
            "--2023-05-18 16:39:35--  https://raw.githubusercontent.com/mrdbourke/tensorflow-deep-learning/main/extras/helper_functions.py\n",
            "Resolving raw.githubusercontent.com (raw.githubusercontent.com)... 185.199.108.133, 185.199.109.133, 185.199.110.133, ...\n",
            "Connecting to raw.githubusercontent.com (raw.githubusercontent.com)|185.199.108.133|:443... connected.\n",
            "HTTP request sent, awaiting response... 200 OK\n",
            "Length: 10246 (10K) [text/plain]\n",
            "Saving to: ‘helper_functions.py’\n",
            "\n",
            "\rhelper_functions.py   0%[                    ]       0  --.-KB/s               \rhelper_functions.py 100%[===================>]  10.01K  --.-KB/s    in 0s      \n",
            "\n",
            "2023-05-18 16:39:36 (92.3 MB/s) - ‘helper_functions.py’ saved [10246/10246]\n",
            "\n"
          ]
        }
      ]
    },
    {
      "cell_type": "code",
      "source": [
        "from helper_functions import calculate_results\n",
        "baseline_results = calculate_results(y_true = val_labels_encoded,\n",
        "                                     y_pred = baseline_preds)\n",
        "baseline_results"
      ],
      "metadata": {
        "colab": {
          "base_uri": "https://localhost:8080/"
        },
        "id": "yOCYNnWHfQVl",
        "outputId": "2c7c02b5-301b-49eb-ca4d-f05acf0b653a"
      },
      "execution_count": null,
      "outputs": [
        {
          "output_type": "execute_result",
          "data": {
            "text/plain": [
              "{'accuracy': 72.1832384482987,\n",
              " 'precision': 0.7186466952323352,\n",
              " 'recall': 0.7218323844829869,\n",
              " 'f1': 0.6989250353450294}"
            ]
          },
          "metadata": {},
          "execution_count": 22
        }
      ]
    },
    {
      "cell_type": "markdown",
      "source": [
        "Preparing text for deep sequence models"
      ],
      "metadata": {
        "id": "3rjLvYSMiq7-"
      }
    },
    {
      "cell_type": "code",
      "source": [
        "import numpy as np\n",
        "import tensorflow as tf\n",
        "from tensorflow.keras import layers"
      ],
      "metadata": {
        "id": "04q3z4HbivSl"
      },
      "execution_count": null,
      "outputs": []
    },
    {
      "cell_type": "code",
      "source": [
        "#how long is each sentence on average\n",
        "sent_lens = [len(sentence.split()) for sentence in train_sentences]\n",
        "avg_sent_len = np.mean(sent_lens)\n",
        "avg_sent_len"
      ],
      "metadata": {
        "colab": {
          "base_uri": "https://localhost:8080/"
        },
        "id": "2hnCPhZSjCiV",
        "outputId": "856a171d-8ca8-4211-d900-ee2befa2fd99"
      },
      "execution_count": null,
      "outputs": [
        {
          "output_type": "execute_result",
          "data": {
            "text/plain": [
              "26.338269273494777"
            ]
          },
          "metadata": {},
          "execution_count": 24
        }
      ]
    },
    {
      "cell_type": "code",
      "source": [
        "import matplotlib.pyplot as plt\n",
        "plt.hist(sent_lens, bins = 20)"
      ],
      "metadata": {
        "colab": {
          "base_uri": "https://localhost:8080/",
          "height": 569
        },
        "id": "n9Z3c-dgnDAp",
        "outputId": "e1028a10-d474-4d02-8f94-47b6341e908c"
      },
      "execution_count": null,
      "outputs": [
        {
          "output_type": "execute_result",
          "data": {
            "text/plain": [
              "(array([4.2075e+04, 8.3771e+04, 3.6877e+04, 1.0945e+04, 3.9310e+03,\n",
              "        1.4450e+03, 5.6000e+02, 2.2600e+02, 1.0100e+02, 4.5000e+01,\n",
              "        2.0000e+01, 1.2000e+01, 9.0000e+00, 1.0000e+01, 6.0000e+00,\n",
              "        2.0000e+00, 3.0000e+00, 0.0000e+00, 1.0000e+00, 1.0000e+00]),\n",
              " array([  1.  ,  15.75,  30.5 ,  45.25,  60.  ,  74.75,  89.5 , 104.25,\n",
              "        119.  , 133.75, 148.5 , 163.25, 178.  , 192.75, 207.5 , 222.25,\n",
              "        237.  , 251.75, 266.5 , 281.25, 296.  ]),\n",
              " <BarContainer object of 20 artists>)"
            ]
          },
          "metadata": {},
          "execution_count": 25
        },
        {
          "output_type": "display_data",
          "data": {
            "text/plain": [
              "<Figure size 640x480 with 1 Axes>"
            ],
            "image/png": "[encoded data removed]"
          },
          "metadata": {}
        }
      ]
    },
    {
      "cell_type": "code",
      "source": [
        "#how long of a setnence length covers 95% of examples\n",
        "output_seq_len = int(np.percentile(sent_lens, 95))\n",
        "output_seq_len"
      ],
      "metadata": {
        "colab": {
          "base_uri": "https://localhost:8080/"
        },
        "id": "UouQz1bqnTWK",
        "outputId": "39f5a64b-ba51-42bc-c9cf-5970f5c30cf3"
      },
      "execution_count": null,
      "outputs": [
        {
          "output_type": "execute_result",
          "data": {
            "text/plain": [
              "55"
            ]
          },
          "metadata": {},
          "execution_count": 26
        }
      ]
    },
    {
      "cell_type": "markdown",
      "source": [
        "Text Vectorization layer - maps words to numbers"
      ],
      "metadata": {
        "id": "S6EF8p7rojby"
      }
    },
    {
      "cell_type": "code",
      "source": [
        "from tensorflow.keras.layers.experimental.preprocessing import TextVectorization\n",
        "max_tokens = 68000\n",
        "text_vectorizer = TextVectorization(max_tokens = max_tokens, #number of words in vocabulary\n",
        "                                    output_sequence_length = output_seq_len) #desired ouput length of vectorized sequences"
      ],
      "metadata": {
        "id": "mh9u4SQdol2T"
      },
      "execution_count": null,
      "outputs": []
    },
    {
      "cell_type": "code",
      "source": [
        "# Adapt text vectorizer to training sentences\n",
        "text_vectorizer.adapt(train_sentences)"
      ],
      "metadata": {
        "id": "rgJy8DoBrGsG"
      },
      "execution_count": null,
      "outputs": []
    },
    {
      "cell_type": "code",
      "source": [
        "import random\n",
        "target_sentence = random.choice(train_sentences)\n",
        "print(f\"Text: \\n {target_sentence}\")\n",
        "print(f\"\\n:Length of text: {len(target_sentence)}\")\n",
        "print(f\"\\nVectorized text: {text_vectorizer([target_sentence])}\")"
      ],
      "metadata": {
        "colab": {
          "base_uri": "https://localhost:8080/"
        },
        "id": "LSH6Servu-5K",
        "outputId": "5a4ee4f3-bd0e-45e7-b613-e1b122116bda"
      },
      "execution_count": null,
      "outputs": [
        {
          "output_type": "stream",
          "name": "stdout",
          "text": [
            "Text: \n",
            " this was a randomized controlled trial of single dose placebo , @ or @ mg dronabinol in @ chronic noncancer pain patients taking opioids and not using marijuana .\n",
            "\n",
            ":Length of text: 162\n",
            "\n",
            "Vectorized text: [[   23    10     8    29   106    32     4   312   131    48    16    68\n",
            "  23314     5   244 10648    65    12  1140  2665     3    31    59  6279\n",
            "      0     0     0     0     0     0     0     0     0     0     0     0\n",
            "      0     0     0     0     0     0     0     0     0     0     0     0\n",
            "      0     0     0     0     0     0     0]]\n"
          ]
        }
      ]
    },
    {
      "cell_type": "code",
      "source": [
        "rct_20k_text_vocab = text_vectorizer.get_vocabulary()\n",
        "print(f\"Number of words in vocab: {len(rct_20k_text_vocab)}\")"
      ],
      "metadata": {
        "colab": {
          "base_uri": "https://localhost:8080/"
        },
        "id": "aelkfA2Tvk_4",
        "outputId": "922ba374-c9cf-4b65-bade-0a9c1404feb2"
      },
      "execution_count": null,
      "outputs": [
        {
          "output_type": "stream",
          "name": "stdout",
          "text": [
            "Number of words in vocab: 64841\n"
          ]
        }
      ]
    },
    {
      "cell_type": "code",
      "source": [
        "#get the config of our text vectorizer\n",
        "text_vectorizer.get_config()"
      ],
      "metadata": {
        "colab": {
          "base_uri": "https://localhost:8080/"
        },
        "id": "pRAmg-dWv2zu",
        "outputId": "9982885e-7ba8-4148-b082-fe829009c444"
      },
      "execution_count": null,
      "outputs": [
        {
          "output_type": "execute_result",
          "data": {
            "text/plain": [
              "{'name': 'text_vectorization',\n",
              " 'trainable': True,\n",
              " 'dtype': 'string',\n",
              " 'batch_input_shape': (None,),\n",
              " 'max_tokens': 68000,\n",
              " 'standardize': 'lower_and_strip_punctuation',\n",
              " 'split': 'whitespace',\n",
              " 'ngrams': None,\n",
              " 'output_mode': 'int',\n",
              " 'output_sequence_length': 55,\n",
              " 'pad_to_max_tokens': False,\n",
              " 'sparse': False,\n",
              " 'ragged': False,\n",
              " 'vocabulary': None,\n",
              " 'idf_weights': None,\n",
              " 'encoding': 'utf-8',\n",
              " 'vocabulary_size': 64841}"
            ]
          },
          "metadata": {},
          "execution_count": 31
        }
      ]
    },
    {
      "cell_type": "markdown",
      "source": [
        "Create custom text embedding"
      ],
      "metadata": {
        "id": "E-eeubN6wHGA"
      }
    },
    {
      "cell_type": "code",
      "source": [
        "token_embed = layers.Embedding(input_dim = len(rct_20k_text_vocab), #length of vocabulary\n",
        "                               output_dim = 128, #Note: different embedding sizes resutls in drastically different numbers of paramaters to train\n",
        "                               mask_zero = True, #use masking to handle variable sequence lengths (save space)\n",
        "                               name = \"token_embedding\")"
      ],
      "metadata": {
        "id": "eNuZPWd5wJOr"
      },
      "execution_count": null,
      "outputs": []
    },
    {
      "cell_type": "code",
      "source": [
        "print(f\"Sentence before vectorization: \\n {target_sentence} \\n\")\n",
        "vectorized_sentence = text_vectorizer([target_sentence])\n",
        "print(f\"Sentence after vectorization (before embedding): \\n {vectorized_sentence}\\n\")\n",
        "embedding_sentence = token_embed(vectorized_sentence)\n",
        "print(f\"Sentence after embedding:\\n {embedding_sentence} \\n\")\n",
        "print(f\"Embedded sentence shape: {embedding_sentence.shape}\")"
      ],
      "metadata": {
        "colab": {
          "base_uri": "https://localhost:8080/"
        },
        "id": "AZDjnnYowJR_",
        "outputId": "37fc289a-4718-4144-c23d-e0de6ebf72c5"
      },
      "execution_count": null,
      "outputs": [
        {
          "output_type": "stream",
          "name": "stdout",
          "text": [
            "Sentence before vectorization: \n",
            " this was a randomized controlled trial of single dose placebo , @ or @ mg dronabinol in @ chronic noncancer pain patients taking opioids and not using marijuana . \n",
            "\n",
            "Sentence after vectorization (before embedding): \n",
            " [[   23    10     8    29   106    32     4   312   131    48    16    68\n",
            "  23314     5   244 10648    65    12  1140  2665     3    31    59  6279\n",
            "      0     0     0     0     0     0     0     0     0     0     0     0\n",
            "      0     0     0     0     0     0     0     0     0     0     0     0\n",
            "      0     0     0     0     0     0     0]]\n",
            "\n",
            "Sentence after embedding:\n",
            " [[[ 0.03980789  0.03120961  0.03864026 ...  0.0428991   0.02234859\n",
            "   -0.03554151]\n",
            "  [-0.04130007  0.00968252 -0.04549482 ...  0.01104411 -0.02936344\n",
            "   -0.00293436]\n",
            "  [-0.01271928 -0.01306111 -0.00085837 ...  0.02609414 -0.03676575\n",
            "   -0.03172225]\n",
            "  ...\n",
            "  [ 0.04169654  0.01611687 -0.01502978 ... -0.01736418 -0.02152989\n",
            "   -0.02841531]\n",
            "  [ 0.04169654  0.01611687 -0.01502978 ... -0.01736418 -0.02152989\n",
            "   -0.02841531]\n",
            "  [ 0.04169654  0.01611687 -0.01502978 ... -0.01736418 -0.02152989\n",
            "   -0.02841531]]] \n",
            "\n",
            "Embedded sentence shape: (1, 55, 128)\n"
          ]
        }
      ]
    },
    {
      "cell_type": "markdown",
      "source": [
        "Creating datasets to make data load as fast as possible"
      ],
      "metadata": {
        "id": "gr9nv53Oz96f"
      }
    },
    {
      "cell_type": "code",
      "source": [
        "#Turn data into tensofrlow datasets\n",
        "train_dataset = tf.data.Dataset.from_tensor_slices((train_sentences,train_labels_one_hot))\n",
        "valid_dataset = tf.data.Dataset.from_tensor_slices((val_sentences, val_labels_one_hot))\n",
        "test_dataset = tf.data.Dataset.from_tensor_slices((test_sentences, test_labels_one_hot))\n",
        "\n",
        "train_dataset"
      ],
      "metadata": {
        "colab": {
          "base_uri": "https://localhost:8080/"
        },
        "id": "7wmrv-ROzoS5",
        "outputId": "c4770c3b-99fb-4767-b46d-6db2f750623d"
      },
      "execution_count": null,
      "outputs": [
        {
          "output_type": "execute_result",
          "data": {
            "text/plain": [
              "<_TensorSliceDataset element_spec=(TensorSpec(shape=(), dtype=tf.string, name=None), TensorSpec(shape=(5,), dtype=tf.float64, name=None))>"
            ]
          },
          "metadata": {},
          "execution_count": 34
        }
      ]
    },
    {
      "cell_type": "code",
      "source": [
        "#Take the TensorSlice Dataset's and turn them into prefentech datasets\n",
        "train_dataset = train_dataset.batch(32).prefetch(tf.data.AUTOTUNE)\n",
        "valid_dataset = valid_dataset.batch(32).prefetch(tf.data.AUTOTUNE)\n",
        "test_dataset = test_dataset.batch(32).prefetch(tf.data.AUTOTUNE)"
      ],
      "metadata": {
        "id": "5abcTmos23Hg"
      },
      "execution_count": null,
      "outputs": []
    },
    {
      "cell_type": "markdown",
      "source": [
        "##Model 1: Conv1D with token embeddings"
      ],
      "metadata": {
        "id": "ki5t3ySMLJt1"
      }
    },
    {
      "cell_type": "code",
      "source": [
        "inputs = layers.Input(shape = (1,), dtype = tf.string)\n",
        "text_vectors = text_vectorizer(inputs)\n",
        "token_embeddings = token_embed(text_vectors)\n",
        "x = layers.Conv1D(64, kernel_size=5, padding = \"same\", activation = \"relu\")(token_embeddings)\n",
        "x = layers.GlobalAveragePooling1D()(x)\n",
        "outputs = layers.Dense(num_classes, activation = \"softmax\")(x) #softmax because we are dealing with multiclass classification\n",
        "model_1 = tf.keras.Model(inputs, outputs)\n",
        "\n",
        "model_1.compile(loss = \"categorical_crossentropy\",\n",
        "                optimizer = tf.keras.optimizers.Adam(),\n",
        "                metrics = [\"accuracy\"])\n",
        "\n",
        "model_1.summary()\n"
      ],
      "metadata": {
        "colab": {
          "base_uri": "https://localhost:8080/"
        },
        "id": "Tudu4l1gLNOZ",
        "outputId": "c0e41fae-650d-469b-9276-0364bc9b8171"
      },
      "execution_count": null,
      "outputs": [
        {
          "output_type": "stream",
          "name": "stdout",
          "text": [
            "Model: \"model\"\n",
            "_________________________________________________________________\n",
            " Layer (type)                Output Shape              Param #   \n",
            "=================================================================\n",
            " input_1 (InputLayer)        [(None, 1)]               0         \n",
            "                                                                 \n",
            " text_vectorization (TextVec  (None, 55)               0         \n",
            " torization)                                                     \n",
            "                                                                 \n",
            " token_embedding (Embedding)  (None, 55, 128)          8299648   \n",
            "                                                                 \n",
            " conv1d (Conv1D)             (None, 55, 64)            41024     \n",
            "                                                                 \n",
            " global_average_pooling1d (G  (None, 64)               0         \n",
            " lobalAveragePooling1D)                                          \n",
            "                                                                 \n",
            " dense (Dense)               (None, 5)                 325       \n",
            "                                                                 \n",
            "=================================================================\n",
            "Total params: 8,340,997\n",
            "Trainable params: 8,340,997\n",
            "Non-trainable params: 0\n",
            "_________________________________________________________________\n"
          ]
        }
      ]
    },
    {
      "cell_type": "code",
      "source": [
        "#history_model_1 = model_1.fit(train_dataset,\n",
        " #                             steps_per_epoch = int(0.1*len(train_dataset)),\n",
        "#                              epochs = 3,\n",
        " #                             validation_data = valid_dataset,\n",
        " #                             validation_steps = int(0.1*len(valid_dataset)))"
      ],
      "metadata": {
        "id": "rRtRo8ySMNnq"
      },
      "execution_count": null,
      "outputs": []
    },
    {
      "cell_type": "code",
      "source": [
        "model_1.evaluate(valid_dataset)"
      ],
      "metadata": {
        "colab": {
          "base_uri": "https://localhost:8080/"
        },
        "id": "ZjS83yQFN0i_",
        "outputId": "2981e370-aa4c-496e-9df5-81978475a8fb"
      },
      "execution_count": null,
      "outputs": [
        {
          "output_type": "stream",
          "name": "stdout",
          "text": [
            "945/945 [==============================] - 11s 4ms/step - loss: 1.6098 - accuracy: 0.1170\n"
          ]
        },
        {
          "output_type": "execute_result",
          "data": {
            "text/plain": [
              "[1.6098496913909912, 0.1169733852148056]"
            ]
          },
          "metadata": {},
          "execution_count": 38
        }
      ]
    },
    {
      "cell_type": "code",
      "source": [
        "#make predications\n",
        "model_1_pred_probs = model_1.predict(valid_dataset)\n",
        "#convert pred probs to classes\n",
        "model_1_preds = tf.argmax(model_1_pred_probs, axis = 1)\n",
        "#calculate model 1 results\n",
        "model_1_results = calculate_results(y_true = val_labels_encoded,\n",
        "                                    y_pred = model_1_preds)\n",
        "\n",
        "model_1_results"
      ],
      "metadata": {
        "colab": {
          "base_uri": "https://localhost:8080/"
        },
        "id": "yBtFaNkuN3dW",
        "outputId": "0e216a61-e76c-420d-a4b3-2c4b58d22920"
      },
      "execution_count": null,
      "outputs": [
        {
          "output_type": "stream",
          "name": "stdout",
          "text": [
            "945/945 [==============================] - 2s 2ms/step\n"
          ]
        },
        {
          "output_type": "stream",
          "name": "stderr",
          "text": [
            "/usr/local/lib/python3.10/dist-packages/sklearn/metrics/_classification.py:1344: UndefinedMetricWarning: Precision and F-score are ill-defined and being set to 0.0 in labels with no predicted samples. Use `zero_division` parameter to control this behavior.\n",
            "  _warn_prf(average, modifier, msg_start, len(result))\n"
          ]
        },
        {
          "output_type": "execute_result",
          "data": {
            "text/plain": [
              "{'accuracy': 11.69733880577254,\n",
              " 'precision': 0.5018048757208107,\n",
              " 'recall': 0.1169733880577254,\n",
              " 'f1': 0.03064982381259074}"
            ]
          },
          "metadata": {},
          "execution_count": 39
        }
      ]
    },
    {
      "cell_type": "markdown",
      "source": [
        "##Model 2: Feature extraction with pretrained token embeddings"
      ],
      "metadata": {
        "id": "EexnbADGPHBq"
      }
    },
    {
      "cell_type": "code",
      "source": [
        "#Download pretrained Tensforlow Hub USE\n",
        "import tensorflow_hub as hub\n",
        "tf_hub_embedding_layer = hub.KerasLayer(\"https://tfhub.dev/google/universal-sentence-encoder/4\",\n",
        "                                        trainable = False,\n",
        "                                        name = \"universal_sentence_encoder\")\n",
        "random_train_sentence = random.choice(train_sentences)\n",
        "print(f\"Ranomd sentence :\\n {random_train_sentence}\")\n",
        "use_embedded_sentence = tf_hub_embedding_layer([random_train_sentence])\n",
        "print(f\"Sentence after embedding :\\n {use_embedded_sentence}\")\n"
      ],
      "metadata": {
        "colab": {
          "base_uri": "https://localhost:8080/"
        },
        "id": "sVIjaEr4Peoi",
        "outputId": "c87a1adf-4dad-4a70-a399-503235a81c38"
      },
      "execution_count": null,
      "outputs": [
        {
          "output_type": "stream",
          "name": "stdout",
          "text": [
            "Ranomd sentence :\n",
            " after baseline assessment participants will be allocated to one of two treatment conditions ( allocation ratio of @:@ ) using a stratified ( per site , per care pathway ) , blocked randomization procedure .\n",
            "Sentence after embedding :\n",
            " [[-5.01390658e-02 -2.31919568e-02 -4.28300388e-02 -1.86396576e-02\n",
            "  -3.21217291e-02 -5.97393513e-02 -2.63502635e-02 -3.61648351e-02\n",
            "  -2.82862186e-02  6.90217093e-02  2.74518039e-02  5.54047711e-02\n",
            "  -1.48669546e-02  2.51050536e-02 -5.81050515e-02  1.83579861e-03\n",
            "  -5.20236827e-02  5.76221608e-02 -6.64137155e-02 -1.25540271e-02\n",
            "   1.58822369e-02  1.68563481e-02 -4.93202917e-02 -5.52094318e-02\n",
            "   7.23328367e-02  5.40435873e-03 -4.73001748e-02  5.85650951e-02\n",
            "   2.44740248e-02 -1.12543013e-02 -1.60526484e-02  7.65433833e-02\n",
            "  -8.79011568e-05  1.07280677e-02  1.87415592e-02 -9.06524714e-03\n",
            "   5.12476638e-02 -1.08599821e-02 -6.62312359e-02 -2.71902550e-02\n",
            "  -3.55733633e-02 -2.26473901e-02 -4.35041003e-02 -5.94848134e-02\n",
            "   6.50460552e-03  7.48727545e-02  2.38176528e-02  1.96496584e-02\n",
            "  -1.60573609e-02 -6.42606393e-02 -7.86256865e-02 -2.43530534e-02\n",
            "   1.07510975e-02 -4.73625138e-02  2.77408473e-02  6.25363551e-03\n",
            "  -5.41511029e-02 -1.37081621e-02  6.84543401e-02  4.65570763e-02\n",
            "  -4.97218147e-02 -1.36181107e-02  4.43082601e-02 -6.84187636e-02\n",
            "   6.32470027e-02 -1.60791241e-02  7.03508183e-02 -6.31311461e-02\n",
            "   2.90933046e-02  5.34815621e-03 -1.60083678e-02  6.51865825e-02\n",
            "  -4.57984768e-02  5.20399436e-02 -6.14402024e-03  7.12110624e-02\n",
            "   3.49740870e-02  5.69657795e-02 -6.49877861e-02 -7.63046071e-02\n",
            "  -5.71464598e-02  2.41952073e-02 -7.24297613e-02 -4.86539900e-02\n",
            "  -7.63406754e-02  6.58495054e-02 -7.80339167e-02  2.95717604e-02\n",
            "  -1.59701724e-02 -1.75868329e-02 -7.20587152e-04 -2.91130003e-02\n",
            "   2.95885503e-02 -6.43771812e-02  6.39557838e-02 -5.70737980e-02\n",
            "  -4.96251322e-02 -2.96553317e-02 -4.50832061e-02  2.87612136e-02\n",
            "  -2.60345805e-02  2.56608296e-02  6.98572472e-02 -9.20259487e-03\n",
            "  -3.53196519e-03  2.40784674e-03  3.97272296e-02  6.21325187e-02\n",
            "  -4.98356074e-02 -3.04591581e-02 -5.77219538e-02 -3.05954125e-02\n",
            "   6.18234463e-02  6.73500821e-02  5.77409379e-02  7.83565044e-02\n",
            "   7.74569809e-02  2.75807697e-02  5.02931811e-02  3.79523113e-02\n",
            "   3.41650681e-03  5.74471653e-02 -4.31767739e-02  6.39796406e-02\n",
            "  -2.93333828e-02  3.65372635e-02 -6.20621331e-02  6.38787225e-02\n",
            "   3.30671258e-02  5.66453151e-02  5.94253913e-02  1.28495144e-02\n",
            "   4.06604307e-03 -3.79333496e-02 -2.41893772e-02 -8.73579979e-02\n",
            "   3.63385864e-02 -5.29108681e-02  4.44085263e-02 -1.03533706e-02\n",
            "  -7.39115179e-02 -1.16424859e-02  3.24995182e-02 -2.44378373e-02\n",
            "   4.16948125e-02 -2.82859858e-02 -4.06241044e-02  2.20639333e-02\n",
            "  -7.22527206e-02 -2.31288709e-02  5.14760762e-02  8.41063112e-02\n",
            "   3.05218603e-02 -2.51567606e-02  2.95450841e-03 -2.75424961e-02\n",
            "   2.12353300e-02  8.66103768e-02 -6.76797284e-03 -1.86994765e-02\n",
            "  -1.05857439e-02  1.74439773e-02 -2.85090785e-02  4.11100686e-02\n",
            "   1.36965525e-03  4.83016390e-03  4.42038029e-02  7.67808929e-02\n",
            "   2.34103631e-02 -6.62372485e-02  4.76677604e-02 -7.43079334e-02\n",
            "  -4.84172553e-02  2.90302336e-02  8.31568614e-02 -4.67401370e-02\n",
            "   7.53485365e-03  2.63140872e-02  2.25555673e-02  5.53220436e-02\n",
            "  -4.65792120e-02  2.84061432e-02  7.21795931e-02  7.57687986e-02\n",
            "   7.70351663e-02 -1.08067440e-02  2.57675815e-02  5.79786822e-02\n",
            "   3.62320580e-02  4.16505262e-02 -5.84086366e-02 -8.60049725e-02\n",
            "  -3.06137055e-02 -2.12415159e-02  5.85509837e-03 -6.64938614e-02\n",
            "   6.19779117e-02  6.60469159e-02 -1.99630652e-02 -2.58138329e-02\n",
            "   6.34346455e-02 -1.62990820e-02 -4.33717780e-02  8.33397135e-02\n",
            "   5.50780706e-02 -8.00146838e-04  7.07436586e-03 -6.10276051e-02\n",
            "   2.50767916e-02  6.64972812e-02 -3.67908590e-02 -4.39019352e-02\n",
            "   4.24595997e-02  6.69964626e-02  6.83086216e-02 -8.23397785e-02\n",
            "   3.44106071e-02 -2.05109362e-02  5.52821485e-03 -6.40501082e-02\n",
            "  -1.43133933e-02  5.26358970e-02 -2.00153068e-02 -3.02677415e-03\n",
            "   4.03457731e-02  7.07989410e-02 -4.45471369e-02  3.73537056e-02\n",
            "   4.58079353e-02  7.85910115e-02  4.36288677e-02  1.97235122e-03\n",
            "  -1.21603534e-02 -5.57399578e-02  5.85829243e-02 -1.16383890e-02\n",
            "   3.18754725e-02 -5.22730984e-02 -8.02029520e-02  4.24459837e-02\n",
            "   2.65828818e-02 -6.79488331e-02 -7.45920762e-02 -1.59853920e-02\n",
            "  -1.98701546e-02 -2.59747840e-02 -1.85193848e-02 -4.04329374e-02\n",
            "   5.92568070e-02 -8.80140737e-02  7.75819570e-02 -1.22102825e-02\n",
            "   4.73173223e-02  3.32161710e-02 -1.54069001e-02  4.79564704e-02\n",
            "  -3.49526666e-02 -2.28799152e-04  1.04226116e-02  2.50994749e-02\n",
            "  -1.38802908e-03 -2.85645984e-02 -8.18793997e-02  7.24888891e-02\n",
            "  -6.01636171e-02  3.40519147e-03 -5.10588177e-02 -7.48076960e-02\n",
            "   3.13435197e-02 -2.33894698e-02  3.47387083e-02 -2.25921739e-02\n",
            "   3.09568420e-02 -3.94336730e-02 -5.17601445e-02 -4.82429601e-02\n",
            "  -3.83165032e-02 -2.65833009e-02  6.82117864e-02 -1.76838338e-02\n",
            "   2.60178410e-02  4.62385733e-03 -3.41669917e-02  2.68578604e-02\n",
            "  -4.48577702e-02  4.27329913e-02  3.98108326e-02  4.70168144e-02\n",
            "  -3.82312164e-02  4.31596823e-02  5.15269786e-02 -5.21870144e-02\n",
            "   2.03296728e-03  4.13219184e-02  1.50947380e-05  2.62240265e-02\n",
            "   3.20384204e-02 -1.10952407e-02  7.56060658e-03 -4.46280986e-02\n",
            "   5.89493141e-02  8.11315924e-02  4.34582196e-02 -1.65981539e-02\n",
            "  -7.79900625e-02  4.89800796e-03  1.39733031e-02  2.48135608e-02\n",
            "   2.21200418e-02  8.04082863e-03  1.74037721e-02 -6.09299392e-02\n",
            "   2.12805867e-02 -8.16829577e-02  3.40609513e-02  2.53089257e-02\n",
            "   6.59497753e-02  3.65393348e-02  3.52011733e-02  1.56148551e-02\n",
            "  -1.47308102e-02 -4.08846326e-02  8.99379328e-03 -5.73648363e-02\n",
            "   1.54866287e-02  3.72970477e-02  3.09657101e-02  4.13785502e-02\n",
            "  -5.27830273e-02 -1.99132077e-02  5.01228794e-02 -2.05673538e-02\n",
            "   2.87844557e-02  5.35462089e-02  6.80730045e-02  1.86035724e-03\n",
            "   6.19311258e-02 -5.18813431e-02  4.67268229e-02  7.19581246e-02\n",
            "   1.63008012e-02 -2.57401504e-02 -3.87384593e-02  4.61508594e-02\n",
            "  -5.61447032e-02  1.04145696e-02 -6.13948144e-03  4.94176485e-02\n",
            "  -6.13833740e-02 -1.18922601e-02  4.32197787e-02  1.32663664e-03\n",
            "  -1.84583012e-02  5.32345884e-02  3.41465771e-02  5.48589677e-02\n",
            "   7.95194283e-02 -5.85737266e-02  1.37178355e-03  1.43279685e-02\n",
            "   3.67343500e-02 -4.15917635e-02 -2.11591870e-02 -3.81421484e-02\n",
            "  -5.07366378e-03  6.10468686e-02  4.35559042e-02  7.10786730e-02\n",
            "  -3.54605168e-02  6.40360778e-03  2.49250550e-02 -5.59901148e-02\n",
            "  -7.32410839e-03  7.04258829e-02  6.05394430e-02  8.06397758e-03\n",
            "  -8.82790796e-03  3.07072746e-03 -2.26599928e-02 -1.97327007e-02\n",
            "  -1.23861814e-02  2.69137919e-02 -1.26405405e-02 -4.24877815e-02\n",
            "  -4.56410535e-02 -3.01276729e-03 -4.23383936e-02  3.53327505e-02\n",
            "   4.40884680e-02 -1.76268332e-02 -1.53081119e-03 -2.27848105e-02\n",
            "  -5.17200828e-02 -7.24015534e-02 -5.06986119e-02  5.77466041e-02\n",
            "   4.30552475e-02 -1.92645341e-02  4.21781838e-02  2.33797599e-02\n",
            "   5.57748489e-02  3.68264541e-02  4.50384803e-03 -1.02820257e-02\n",
            "  -5.77913597e-02 -6.95311651e-02 -1.31246746e-02  1.26216840e-02\n",
            "   6.24525361e-02 -7.42764026e-02  8.20828229e-02 -2.57707350e-02\n",
            "  -4.46856916e-02  6.21702448e-02 -5.22305258e-02 -3.18259634e-02\n",
            "   6.81061149e-02  2.25580800e-02 -4.89723608e-02 -3.60701457e-02\n",
            "  -3.62334796e-03  1.28434310e-02 -3.83744948e-02  6.70631900e-02\n",
            "   2.52090376e-02 -1.43628949e-02  2.59053931e-02 -1.64052155e-02\n",
            "   3.68595822e-03 -6.15452137e-03 -4.98734303e-02  1.75758805e-02\n",
            "  -4.99991188e-03 -1.74194220e-02 -1.31704127e-02 -1.88812241e-02\n",
            "  -2.90558091e-03 -5.22761568e-02 -3.54832374e-02 -6.53294176e-02\n",
            "  -5.34955077e-02  2.37565301e-02 -1.24792811e-02 -5.99539056e-02\n",
            "  -2.98022069e-02  2.67656967e-02  4.80451202e-03 -6.53760806e-02\n",
            "  -5.02703674e-02  3.89884524e-02 -3.61722633e-02  3.35204117e-02\n",
            "   6.71613635e-03 -2.84055844e-02  1.70016419e-02 -2.60267463e-02\n",
            "  -4.27036360e-02  2.92137787e-02  2.24560481e-02  7.46694431e-02\n",
            "   1.36432741e-02 -2.98386328e-02  3.07346303e-02 -4.04264890e-02\n",
            "  -4.26483639e-02  1.59932184e-03 -7.22072795e-02 -6.42373189e-02\n",
            "   1.85601076e-03 -5.42549454e-02  4.96802963e-02  6.10475093e-02\n",
            "  -5.60283661e-02 -5.30793332e-02 -7.63679519e-02  1.93606745e-02\n",
            "  -1.70534737e-02 -5.15409559e-02  3.16928141e-02  3.06605306e-02\n",
            "  -3.18159349e-02 -2.80812625e-02  3.92579325e-02 -6.98142080e-03\n",
            "   3.54776420e-02  4.55919690e-02 -7.17130974e-02 -5.63505702e-02\n",
            "  -5.40689081e-02 -1.52055118e-02  4.06139009e-02  2.69424766e-02\n",
            "  -4.69187535e-02 -4.38407101e-02  5.95994480e-02  3.69061679e-02\n",
            "   2.10142210e-02 -2.18217298e-02  3.34115885e-02  1.21066542e-02\n",
            "   3.93822715e-02 -6.01435639e-02 -6.06425554e-02 -8.74494836e-02\n",
            "  -1.31465383e-02 -7.31702670e-02 -1.42533192e-02 -5.20270132e-02\n",
            "  -3.93445902e-02 -7.82943051e-03  1.68915875e-02 -3.08272503e-02]]\n"
          ]
        }
      ]
    },
    {
      "cell_type": "code",
      "source": [
        "inputs = layers.Input(shape = [], dtype = tf.string)\n",
        "pretrained_embeddings = tf_hub_embedding_layer(inputs)\n",
        "x= layers.Dense(128, activation = \"relu\")(pretrained_embeddings)\n",
        "outputs = layers.Dense(5, activation = \"softmax\")(x) #softmax because we are dealing with multiclass classification\n",
        "model_2 = tf.keras.Model(inputs, outputs, name = \"model_2_USE_feature_extractor\")\n",
        "\n",
        "model_2.compile(loss = \"categorical_crossentropy\",\n",
        "                optimizer = tf.keras.optimizers.Adam(),\n",
        "                metrics = [\"accuracy\"])\n",
        "\n",
        "model_2.summary()"
      ],
      "metadata": {
        "colab": {
          "base_uri": "https://localhost:8080/"
        },
        "id": "ahNREL7cRVWy",
        "outputId": "4b6391a7-4dc5-402a-b819-608d41b9c417"
      },
      "execution_count": null,
      "outputs": [
        {
          "output_type": "stream",
          "name": "stdout",
          "text": [
            "Model: \"model_2_USE_feature_extractor\"\n",
            "_________________________________________________________________\n",
            " Layer (type)                Output Shape              Param #   \n",
            "=================================================================\n",
            " input_2 (InputLayer)        [(None,)]                 0         \n",
            "                                                                 \n",
            " universal_sentence_encoder   (None, 512)              256797824 \n",
            " (KerasLayer)                                                    \n",
            "                                                                 \n",
            " dense_1 (Dense)             (None, 128)               65664     \n",
            "                                                                 \n",
            " dense_2 (Dense)             (None, 5)                 645       \n",
            "                                                                 \n",
            "=================================================================\n",
            "Total params: 256,864,133\n",
            "Trainable params: 66,309\n",
            "Non-trainable params: 256,797,824\n",
            "_________________________________________________________________\n"
          ]
        }
      ]
    },
    {
      "cell_type": "code",
      "source": [
        "history_model_2 = model_2.fit(train_dataset,\n",
        "                              steps_per_epoch = int(0.1*len(train_dataset)),\n",
        "                              epochs = 3,\n",
        "                              validation_data = valid_dataset,\n",
        "                              validation_steps = int(0.1*len(valid_dataset)))"
      ],
      "metadata": {
        "colab": {
          "base_uri": "https://localhost:8080/"
        },
        "id": "ezwbHRwsSeqf",
        "outputId": "c014e775-047f-4c86-b54d-05b80ecc8eb6"
      },
      "execution_count": null,
      "outputs": [
        {
          "output_type": "stream",
          "name": "stdout",
          "text": [
            "Epoch 1/3\n",
            "562/562 [==============================] - 21s 23ms/step - loss: 0.9170 - accuracy: 0.6513 - val_loss: 0.7977 - val_accuracy: 0.6885\n",
            "Epoch 2/3\n",
            "562/562 [==============================] - 10s 18ms/step - loss: 0.7688 - accuracy: 0.7015 - val_loss: 0.7546 - val_accuracy: 0.7045\n",
            "Epoch 3/3\n",
            "562/562 [==============================] - 14s 25ms/step - loss: 0.7525 - accuracy: 0.7119 - val_loss: 0.7384 - val_accuracy: 0.7131\n"
          ]
        }
      ]
    },
    {
      "cell_type": "code",
      "source": [
        "model_2.evaluate(valid_dataset)"
      ],
      "metadata": {
        "colab": {
          "base_uri": "https://localhost:8080/"
        },
        "id": "h009eTevS-3F",
        "outputId": "d8493452-9ddb-4d38-fbd4-d30581e21dde"
      },
      "execution_count": null,
      "outputs": [
        {
          "output_type": "stream",
          "name": "stdout",
          "text": [
            "945/945 [==============================] - 19s 20ms/step - loss: 0.7416 - accuracy: 0.7139\n"
          ]
        },
        {
          "output_type": "execute_result",
          "data": {
            "text/plain": [
              "[0.7416368722915649, 0.7138554453849792]"
            ]
          },
          "metadata": {},
          "execution_count": 43
        }
      ]
    },
    {
      "cell_type": "code",
      "source": [
        "model_2_pred_probs = model_2.predict(valid_dataset)\n",
        "model_2_preds = tf.argmax(model_2_pred_probs, axis = 1)\n",
        "model_2_results = calculate_results(y_true = val_labels_encoded,\n",
        "                                   y_pred = model_2_preds)"
      ],
      "metadata": {
        "colab": {
          "base_uri": "https://localhost:8080/"
        },
        "id": "ORxGW1QpTCuV",
        "outputId": "2bb2766b-24b7-4479-e796-2ee67d988683"
      },
      "execution_count": null,
      "outputs": [
        {
          "output_type": "stream",
          "name": "stdout",
          "text": [
            "945/945 [==============================] - 10s 10ms/step\n"
          ]
        }
      ]
    },
    {
      "cell_type": "markdown",
      "source": [
        "##Model 3: Conv1D with character embeddings"
      ],
      "metadata": {
        "id": "Rue3bkQ8T4Qk"
      }
    },
    {
      "cell_type": "code",
      "source": [
        "#make function to split sentences into characters\n",
        "def split_chars(text):\n",
        "  return \" \".join(list(text))\n",
        "\n",
        "split_chars(random_train_sentence)"
      ],
      "metadata": {
        "colab": {
          "base_uri": "https://localhost:8080/",
          "height": 70
        },
        "id": "hasU1J37VmyC",
        "outputId": "d4e043aa-da97-4a1b-b568-835e5d65169b"
      },
      "execution_count": null,
      "outputs": [
        {
          "output_type": "execute_result",
          "data": {
            "text/plain": [
              "'a f t e r   b a s e l i n e   a s s e s s m e n t   p a r t i c i p a n t s   w i l l   b e   a l l o c a t e d   t o   o n e   o f   t w o   t r e a t m e n t   c o n d i t i o n s   (   a l l o c a t i o n   r a t i o   o f   @ : @   )   u s i n g   a   s t r a t i f i e d   (   p e r   s i t e   ,   p e r   c a r e   p a t h w a y   )   ,   b l o c k e d   r a n d o m i z a t i o n   p r o c e d u r e   .'"
            ],
            "application/vnd.google.colaboratory.intrinsic+json": {
              "type": "string"
            }
          },
          "metadata": {},
          "execution_count": 45
        }
      ]
    },
    {
      "cell_type": "code",
      "source": [
        "#split sequence-level data splits into character-level data splits\n",
        "train_chars = [split_chars(sentence) for sentence in train_sentences]\n",
        "val_chars = [split_chars(sentence) for sentence in val_sentences]\n",
        "test_chars = [split_chars(sentence) for sentence in test_sentences]"
      ],
      "metadata": {
        "id": "wOoBXBFxWCEy"
      },
      "execution_count": null,
      "outputs": []
    },
    {
      "cell_type": "code",
      "source": [
        "#whats the average character lenght\n",
        "char_lens = [len(sentence) for sentence in train_sentences]\n",
        "mean_char_len = np.mean(char_lens)\n",
        "mean_char_len"
      ],
      "metadata": {
        "colab": {
          "base_uri": "https://localhost:8080/"
        },
        "id": "8Ir_Ui3GWc6D",
        "outputId": "46318758-292a-4a72-e35c-8e53045aafe8"
      },
      "execution_count": null,
      "outputs": [
        {
          "output_type": "execute_result",
          "data": {
            "text/plain": [
              "149.3662574983337"
            ]
          },
          "metadata": {},
          "execution_count": 47
        }
      ]
    },
    {
      "cell_type": "code",
      "source": [
        "#check the distribution of our sequences at the char level\n",
        "import matplotlib.pyplot as plt\n",
        "plt.hist(char_lens, bins=7)\n"
      ],
      "metadata": {
        "colab": {
          "base_uri": "https://localhost:8080/",
          "height": 517
        },
        "id": "yrJECy2GWzoH",
        "outputId": "7a834077-624c-4956-b2bf-5b6f0302217e"
      },
      "execution_count": null,
      "outputs": [
        {
          "output_type": "execute_result",
          "data": {
            "text/plain": [
              "(array([1.41175e+05, 3.71110e+04, 1.60000e+03, 1.27000e+02, 2.10000e+01,\n",
              "        5.00000e+00, 1.00000e+00]),\n",
              " array([1.00000000e+00, 1.98857143e+02, 3.96714286e+02, 5.94571429e+02,\n",
              "        7.92428571e+02, 9.90285714e+02, 1.18814286e+03, 1.38600000e+03]),\n",
              " <BarContainer object of 7 artists>)"
            ]
          },
          "metadata": {},
          "execution_count": 48
        },
        {
          "output_type": "display_data",
          "data": {
            "text/plain": [
              "<Figure size 640x480 with 1 Axes>"
            ],
            "image/png": "[encoded data removed]"
          },
          "metadata": {}
        }
      ]
    },
    {
      "cell_type": "code",
      "source": [
        "#Find what character length covers 95% of sequences\n",
        "output_seq_char_len = int(np.percentile(char_lens, 95))"
      ],
      "metadata": {
        "id": "FUEqD1NKXOe2"
      },
      "execution_count": null,
      "outputs": []
    },
    {
      "cell_type": "code",
      "source": [
        "#get all keyboard characters\n",
        "import string\n",
        "alphabet = string.ascii_lowercase + string.digits + string.punctuation\n",
        "alphabet"
      ],
      "metadata": {
        "colab": {
          "base_uri": "https://localhost:8080/",
          "height": 35
        },
        "id": "dei4tFAcnMou",
        "outputId": "b029f443-e733-4447-c7f7-602dbb1ec515"
      },
      "execution_count": null,
      "outputs": [
        {
          "output_type": "execute_result",
          "data": {
            "text/plain": [
              "'abcdefghijklmnopqrstuvwxyz0123456789!\"#$%&\\'()*+,-./:;<=>?@[\\\\]^_`{|}~'"
            ],
            "application/vnd.google.colaboratory.intrinsic+json": {
              "type": "string"
            }
          },
          "metadata": {},
          "execution_count": 50
        }
      ]
    },
    {
      "cell_type": "code",
      "source": [
        "#create char-level token vectorizer instance\n",
        "NUM_CHAR_TOKENS = len(alphabet) + 2 #add two for space and unknown character\n",
        "char_vectorizer = TextVectorization(max_tokens = NUM_CHAR_TOKENS,\n",
        "                                    output_sequence_length = output_seq_char_len,\n",
        "                                    standardize = \"lower_and_strip_punctuation\",\n",
        "                                    name = \"char_vectorizer\")"
      ],
      "metadata": {
        "id": "v3c55eZRncR9"
      },
      "execution_count": null,
      "outputs": []
    },
    {
      "cell_type": "code",
      "source": [
        "#Adapt character vectorizer to training character\n",
        "char_vectorizer.adapt(train_chars)\n",
        "\n",
        "#check the character vocab stats\n",
        "char_vocab = char_vectorizer.get_vocabulary()\n",
        "print(f\"Number of different characters in character vocab: {len(char_vocab)}\")\n",
        "print(f\"5 most common characters: {char_vocab[:5]}\")"
      ],
      "metadata": {
        "colab": {
          "base_uri": "https://localhost:8080/"
        },
        "id": "FzFwdU2koYMc",
        "outputId": "2b4ae0fe-212f-45b3-e501-e03ef6492158"
      },
      "execution_count": null,
      "outputs": [
        {
          "output_type": "stream",
          "name": "stdout",
          "text": [
            "Number of different characters in character vocab: 28\n",
            "5 most common characters: ['', '[UNK]', 'e', 't', 'i']\n"
          ]
        }
      ]
    },
    {
      "cell_type": "code",
      "source": [
        "random_train_chars = random.choice(train_chars)\n",
        "print(f\"Charified text :\\n {random_train_chars}\")\n",
        "vectorized_chars = char_vectorizer([random_train_chars])\n",
        "print(f\"\\n Vectorized chars:\\n {vectorized_chars}\")"
      ],
      "metadata": {
        "colab": {
          "base_uri": "https://localhost:8080/"
        },
        "id": "cj9Evz9jpVJa",
        "outputId": "d145bfb8-122c-4854-bfb2-e62b57f6bc8c"
      },
      "execution_count": null,
      "outputs": [
        {
          "output_type": "stream",
          "name": "stdout",
          "text": [
            "Charified text :\n",
            " a l l   s u r g e r i e s   w e r e   p e r f o r m e d   b y   o n e   s u r g e o n   u s i n g   a   p o s t e r i o r - s t a b i l i z e d   c e m e n t e d   p r o s t h e s i s   .\n",
            "\n",
            " Vectorized chars:\n",
            " [[ 5 12 12  9 16  8 18  2  8  4  2  9 20  2  8  2 14  2  8 17  7  8 15  2\n",
            "  10 22 19  7  6  2  9 16  8 18  2  7  6 16  9  4  6 18  5 14  7  9  3  2\n",
            "   8  4  7  8  9  3  5 22  4 12  4 25  2 10 11  2 15  2  6  3  2 10 14  8\n",
            "   7  9  3 13  2  9  4  9  0  0  0  0  0  0  0  0  0  0  0  0  0  0  0  0\n",
            "   0  0  0  0  0  0  0  0  0  0  0  0  0  0  0  0  0  0  0  0  0  0  0  0\n",
            "   0  0  0  0  0  0  0  0  0  0  0  0  0  0  0  0  0  0  0  0  0  0  0  0\n",
            "   0  0  0  0  0  0  0  0  0  0  0  0  0  0  0  0  0  0  0  0  0  0  0  0\n",
            "   0  0  0  0  0  0  0  0  0  0  0  0  0  0  0  0  0  0  0  0  0  0  0  0\n",
            "   0  0  0  0  0  0  0  0  0  0  0  0  0  0  0  0  0  0  0  0  0  0  0  0\n",
            "   0  0  0  0  0  0  0  0  0  0  0  0  0  0  0  0  0  0  0  0  0  0  0  0\n",
            "   0  0  0  0  0  0  0  0  0  0  0  0  0  0  0  0  0  0  0  0  0  0  0  0\n",
            "   0  0  0  0  0  0  0  0  0  0  0  0  0  0  0  0  0  0  0  0  0  0  0  0\n",
            "   0  0]]\n"
          ]
        }
      ]
    },
    {
      "cell_type": "markdown",
      "source": [
        "Create character level embedding"
      ],
      "metadata": {
        "id": "JXHmZjloqyIl"
      }
    },
    {
      "cell_type": "code",
      "source": [
        "char_embed = layers.Embedding(input_dim = len(char_vocab),# number of different characters,\n",
        "                              output_dim = 25, #from paper\n",
        "                              mask_zero = True,\n",
        "                              name = \"char_embed\")"
      ],
      "metadata": {
        "id": "e94L_k1aqwt_"
      },
      "execution_count": null,
      "outputs": []
    },
    {
      "cell_type": "code",
      "source": [
        "#test out character embedding layer\n",
        "print(f\"Charified text : \\n {random_train_chars}\\n\")\n",
        "char_embed_example = char_embed(char_vectorizer([random_train_chars]))\n",
        "print(f\"Embeded chars. \\n {char_embed_example}\")\n",
        "print(f\"Embeded chars shape {char_embed_example.shape}\")"
      ],
      "metadata": {
        "colab": {
          "base_uri": "https://localhost:8080/"
        },
        "id": "YQyz2WUdrQRW",
        "outputId": "7f2912cf-3d4c-44ce-bc5b-1acc42afa333"
      },
      "execution_count": null,
      "outputs": [
        {
          "output_type": "stream",
          "name": "stdout",
          "text": [
            "Charified text : \n",
            " a l l   s u r g e r i e s   w e r e   p e r f o r m e d   b y   o n e   s u r g e o n   u s i n g   a   p o s t e r i o r - s t a b i l i z e d   c e m e n t e d   p r o s t h e s i s   .\n",
            "\n",
            "Embeded chars. \n",
            " [[[-0.02607247 -0.00154784 -0.01016096 ... -0.02905438  0.01494947\n",
            "    0.04411072]\n",
            "  [ 0.04957154 -0.04912692 -0.04092882 ... -0.04808741 -0.00207319\n",
            "   -0.04314905]\n",
            "  [ 0.04957154 -0.04912692 -0.04092882 ... -0.04808741 -0.00207319\n",
            "   -0.04314905]\n",
            "  ...\n",
            "  [ 0.00736778 -0.00338004  0.00581149 ... -0.03236697  0.00565975\n",
            "   -0.0241233 ]\n",
            "  [ 0.00736778 -0.00338004  0.00581149 ... -0.03236697  0.00565975\n",
            "   -0.0241233 ]\n",
            "  [ 0.00736778 -0.00338004  0.00581149 ... -0.03236697  0.00565975\n",
            "   -0.0241233 ]]]\n",
            "Embeded chars shape (1, 290, 25)\n"
          ]
        }
      ]
    },
    {
      "cell_type": "code",
      "source": [
        "#make conv1D on chars only\n",
        "inputs = layers.Input(shape=(1,), dtype = \"string\")\n",
        "char_vectors = char_vectorizer(inputs)\n",
        "char_embeddings = char_embed(char_vectors)\n",
        "x = layers.Conv1D(64, kernel_size = 5, padding = \"same\", activation = \"relu\")(char_embeddings)\n",
        "x = layers.GlobalMaxPool1D()(x)\n",
        "outputs = layers.Dense(num_classes, activation = \"softmax\")(x)\n",
        "model_3 = tf.keras.Model(inputs = inputs,\n",
        "                         outputs = outputs,\n",
        "                         name = \"model_3_conv1d_char_embeddings\")\n",
        "\n",
        "#compile\n",
        "model_3.compile(loss = \"categorical_crossentropy\",\n",
        "                optimizer = tf.keras.optimizers.Adam(),\n",
        "                metrics = [\"accuracy\"])\n",
        "\n",
        "model_3.summary()"
      ],
      "metadata": {
        "colab": {
          "base_uri": "https://localhost:8080/"
        },
        "id": "CQoOU4XUsGoe",
        "outputId": "d48a0c5c-0168-4869-995e-a9099ca30fc1"
      },
      "execution_count": null,
      "outputs": [
        {
          "output_type": "stream",
          "name": "stdout",
          "text": [
            "Model: \"model_3_conv1d_char_embeddings\"\n",
            "_________________________________________________________________\n",
            " Layer (type)                Output Shape              Param #   \n",
            "=================================================================\n",
            " input_3 (InputLayer)        [(None, 1)]               0         \n",
            "                                                                 \n",
            " char_vectorizer (TextVector  (None, 290)              0         \n",
            " ization)                                                        \n",
            "                                                                 \n",
            " char_embed (Embedding)      (None, 290, 25)           700       \n",
            "                                                                 \n",
            " conv1d_1 (Conv1D)           (None, 290, 64)           8064      \n",
            "                                                                 \n",
            " global_average_pooling1d_1   (None, 64)               0         \n",
            " (GlobalAveragePooling1D)                                        \n",
            "                                                                 \n",
            " dense_3 (Dense)             (None, 5)                 325       \n",
            "                                                                 \n",
            "=================================================================\n",
            "Total params: 9,089\n",
            "Trainable params: 9,089\n",
            "Non-trainable params: 0\n",
            "_________________________________________________________________\n"
          ]
        }
      ]
    },
    {
      "cell_type": "code",
      "source": [
        "#creat char level datasets\n",
        "train_char_dataset = tf.data.Dataset.from_tensor_slices((train_chars, train_labels_one_hot)).batch(32).prefetch(tf.data.AUTOTUNE)\n",
        "val_char_dataset = tf.data.Dataset.from_tensor_slices((val_chars, val_labels_one_hot)).batch(32).prefetch(tf.data.AUTOTUNE)\n",
        "test_char_dataset = tf.data.Dataset.from_tensor_slices((test_chars, test_labels_one_hot)).batch(32).prefetch(tf.data.AUTOTUNE)"
      ],
      "metadata": {
        "id": "i60FbKCxtqSq"
      },
      "execution_count": null,
      "outputs": []
    },
    {
      "cell_type": "code",
      "source": [
        "model_3_history = model_3.fit(train_char_dataset,\n",
        "                              steps_per_epoch = int(0.1*len(train_char_dataset)),\n",
        "                              epochs = 3,\n",
        "                              validation_data = val_char_dataset,\n",
        "                              validation_steps = int(0.1*len(val_char_dataset)))"
      ],
      "metadata": {
        "colab": {
          "base_uri": "https://localhost:8080/"
        },
        "id": "4I4_FAjKuGUI",
        "outputId": "7aaf6100-c5cf-49c3-8fe6-c29add2d328c"
      },
      "execution_count": null,
      "outputs": [
        {
          "output_type": "stream",
          "name": "stdout",
          "text": [
            "Epoch 1/3\n",
            "562/562 [==============================] - 13s 14ms/step - loss: 1.4568 - accuracy: 0.3529 - val_loss: 1.3986 - val_accuracy: 0.4076\n",
            "Epoch 2/3\n",
            "562/562 [==============================] - 6s 10ms/step - loss: 1.3598 - accuracy: 0.4275 - val_loss: 1.3300 - val_accuracy: 0.4491\n",
            "Epoch 3/3\n",
            "562/562 [==============================] - 6s 11ms/step - loss: 1.3242 - accuracy: 0.4522 - val_loss: 1.3172 - val_accuracy: 0.4425\n"
          ]
        }
      ]
    },
    {
      "cell_type": "code",
      "source": [
        "model_3_pred_probs = model_3.predict(val_char_dataset)\n",
        "model_3_preds = tf.argmax(model_3_pred_probs, axis = 1)\n",
        "model_3_results = calculate_results(y_true = val_labels_encoded,\n",
        "                                    y_pred = model_3_preds)\n",
        "model_3_results"
      ],
      "metadata": {
        "colab": {
          "base_uri": "https://localhost:8080/"
        },
        "id": "M6jbmSPpvEHK",
        "outputId": "a9c9f3bc-0ebe-4c2d-8481-a7cb6592f8ee"
      },
      "execution_count": null,
      "outputs": [
        {
          "output_type": "stream",
          "name": "stdout",
          "text": [
            "945/945 [==============================] - 3s 3ms/step\n"
          ]
        },
        {
          "output_type": "stream",
          "name": "stderr",
          "text": [
            "/usr/local/lib/python3.10/dist-packages/sklearn/metrics/_classification.py:1344: UndefinedMetricWarning: Precision and F-score are ill-defined and being set to 0.0 in labels with no predicted samples. Use `zero_division` parameter to control this behavior.\n",
            "  _warn_prf(average, modifier, msg_start, len(result))\n"
          ]
        },
        {
          "output_type": "execute_result",
          "data": {
            "text/plain": [
              "{'accuracy': 44.541903879253276,\n",
              " 'precision': 0.3781936759725906,\n",
              " 'recall': 0.44541903879253275,\n",
              " 'f1': 0.38878307862098455}"
            ]
          },
          "metadata": {},
          "execution_count": 60
        }
      ]
    },
    {
      "cell_type": "markdown",
      "source": [
        "##Model 4: Combine character and token embeddings - hybrid embedding layer"
      ],
      "metadata": {
        "id": "Hevm7aW5wGpZ"
      }
    },
    {
      "cell_type": "code",
      "source": [
        "#token inputs/model - functional API to combine multiple different steps\n",
        "\n",
        "#Token layer\n",
        "token_inputs = layers.Input(shape = [], dtype = tf.string, name = \"token_input\") #shape is empty array because thats what the embedding layer wants\n",
        "token_embeddings = tf_hub_embedding_layer(token_inputs) #pretrained embedding layer\n",
        "token_outputs = layers.Dense(128, activation = \"relu\")(token_embeddings)\n",
        "token_model = tf.keras.Model(inputs = token_inputs, outputs = token_outputs)\n",
        "\n",
        "#character layer\n",
        "char_inputs = layers.Input(shape = (1,), dtype = tf.string, name = \"char_input\")\n",
        "char_vectors = char_vectorizer(char_inputs)\n",
        "char_embeddings = char_embed(char_vectors)\n",
        "char_bi_lstm = layers.Bidirectional(layers.LSTM(24))(char_embeddings)\n",
        "char_model = tf.keras.Model(inputs = char_inputs, outputs = char_bi_lstm)\n",
        "\n",
        "# concatenate token and char inputs (create hybrid embedding)\n",
        "token_char_concat = layers.Concatenate(name = \"token_char_hybrid\")([token_model.output, char_model.output])\n",
        "\n",
        "#build a series of ouput layers - adding in Dropout which removes x amount of weights to prevent overfitting\n",
        "combined_dropout = layers.Dropout(0.5)(token_char_concat)\n",
        "combined_dense = layers.Dense(128, activation = \"relu\")(combined_dropout)\n",
        "final_dropout = layers.Dropout(0.5)(combined_dense)\n",
        "output_layer = layers.Dense(num_classes, activation = \"softmax\")(final_dropout)\n",
        "\n",
        "#construct model with char and token inputs\n",
        "model_4 = tf.keras.Model(inputs = [token_model.input, char_model.input],\n",
        "                         outputs = output_layer,\n",
        "                         name = \"model_4_token_and_char_embeddings\")"
      ],
      "metadata": {
        "id": "V71fPyWwwKYE"
      },
      "execution_count": null,
      "outputs": []
    },
    {
      "cell_type": "code",
      "source": [
        "model_4.summary()"
      ],
      "metadata": {
        "colab": {
          "base_uri": "https://localhost:8080/"
        },
        "id": "mFapSMV82iZo",
        "outputId": "cfd1a953-61f5-4d93-a306-0e813a320df6"
      },
      "execution_count": null,
      "outputs": [
        {
          "output_type": "stream",
          "name": "stdout",
          "text": [
            "Model: \"model_4_token_and_char_embeddings\"\n",
            "__________________________________________________________________________________________________\n",
            " Layer (type)                   Output Shape         Param #     Connected to                     \n",
            "==================================================================================================\n",
            " char_input (InputLayer)        [(None, 1)]          0           []                               \n",
            "                                                                                                  \n",
            " token_input (InputLayer)       [(None,)]            0           []                               \n",
            "                                                                                                  \n",
            " char_vectorizer (TextVectoriza  (None, 290)         0           ['char_input[0][0]']             \n",
            " tion)                                                                                            \n",
            "                                                                                                  \n",
            " universal_sentence_encoder (Ke  (None, 512)         256797824   ['token_input[0][0]']            \n",
            " rasLayer)                                                                                        \n",
            "                                                                                                  \n",
            " char_embed (Embedding)         (None, 290, 25)      700         ['char_vectorizer[2][0]']        \n",
            "                                                                                                  \n",
            " dense_6 (Dense)                (None, 128)          65664       ['universal_sentence_encoder[3][0\n",
            "                                                                 ]']                              \n",
            "                                                                                                  \n",
            " bidirectional_1 (Bidirectional  (None, 48)          9600        ['char_embed[2][0]']             \n",
            " )                                                                                                \n",
            "                                                                                                  \n",
            " token_char_hybrid (Concatenate  (None, 176)         0           ['dense_6[0][0]',                \n",
            " )                                                                'bidirectional_1[0][0]']        \n",
            "                                                                                                  \n",
            " dropout (Dropout)              (None, 176)          0           ['token_char_hybrid[0][0]']      \n",
            "                                                                                                  \n",
            " dense_7 (Dense)                (None, 128)          22656       ['dropout[0][0]']                \n",
            "                                                                                                  \n",
            " dropout_1 (Dropout)            (None, 128)          0           ['dense_7[0][0]']                \n",
            "                                                                                                  \n",
            " dense_8 (Dense)                (None, 5)            645         ['dropout_1[0][0]']              \n",
            "                                                                                                  \n",
            "==================================================================================================\n",
            "Total params: 256,897,089\n",
            "Trainable params: 99,265\n",
            "Non-trainable params: 256,797,824\n",
            "__________________________________________________________________________________________________\n"
          ]
        }
      ]
    },
    {
      "cell_type": "code",
      "source": [
        "#plot hybrid token and character model\n",
        "from keras.utils import plot_model\n",
        "plot_model(model_4, show_shapes = True)"
      ],
      "metadata": {
        "colab": {
          "base_uri": "https://localhost:8080/",
          "height": 976
        },
        "id": "knxXEzpN2yGS",
        "outputId": "39c1c48d-1c60-48da-f607-5c036482c2a9"
      },
      "execution_count": null,
      "outputs": [
        {
          "output_type": "execute_result",
          "data": {
            "image/png": "[encoded data removed]",
            "text/plain": [
              "<IPython.core.display.Image object>"
            ]
          },
          "metadata": {},
          "execution_count": 66
        }
      ]
    },
    {
      "cell_type": "code",
      "source": [
        "#compile\n",
        "model_4.compile(loss = \"categorical_crossentropy\",\n",
        "                optimizer = tf.keras.optimizers.Adam(),\n",
        "                metrics = [\"accuracy\"])"
      ],
      "metadata": {
        "id": "oftHAzFC3ufm"
      },
      "execution_count": null,
      "outputs": []
    },
    {
      "cell_type": "code",
      "source": [
        "#create dataset pipline\n",
        "\n",
        "#combine chars and tokens into a dataset\n",
        "train_char_token_data = tf.data.Dataset.from_tensor_slices((train_sentences, train_chars)) #make data (has to be same order as the model)\n",
        "train_char_token_labels = tf.data.Dataset.from_tensor_slices(train_labels_one_hot) #make labels\n",
        "train_char_token_dataset = tf.data.Dataset.zip((train_char_token_data, train_char_token_labels))#combine data and labels\n",
        "\n",
        "#prefetch and batch train data\n",
        "train_char_token_dataset = train_char_token_dataset.batch(32).prefetch(tf.data.AUTOTUNE)\n"
      ],
      "metadata": {
        "id": "wufUwXUg4Fda"
      },
      "execution_count": null,
      "outputs": []
    },
    {
      "cell_type": "code",
      "source": [
        "#Repeat for validation data\n",
        "val_char_token_data = tf.data.Dataset.from_tensor_slices((val_sentences, val_chars)) #make data\n",
        "val_char_token_labels = tf.data.Dataset.from_tensor_slices(val_labels_one_hot) #make labels\n",
        "val_char_token_dataset = tf.data.Dataset.zip((val_char_token_data, val_char_token_labels))#combine data and\n",
        "val_char_token_dataset = val_char_token_dataset.batch(32).prefetch(tf.data.AUTOTUNE)"
      ],
      "metadata": {
        "id": "FMea1dOS5fXa"
      },
      "execution_count": null,
      "outputs": []
    },
    {
      "cell_type": "code",
      "source": [
        "train_char_token_dataset,val_char_token_dataset"
      ],
      "metadata": {
        "colab": {
          "base_uri": "https://localhost:8080/"
        },
        "id": "wDPSxovu57mL",
        "outputId": "da9def80-047f-42e3-e4f3-b81452868059"
      },
      "execution_count": null,
      "outputs": [
        {
          "output_type": "execute_result",
          "data": {
            "text/plain": [
              "(<_PrefetchDataset element_spec=((TensorSpec(shape=(None,), dtype=tf.string, name=None), TensorSpec(shape=(None,), dtype=tf.string, name=None)), TensorSpec(shape=(None, 5), dtype=tf.float64, name=None))>,\n",
              " <_PrefetchDataset element_spec=((TensorSpec(shape=(None,), dtype=tf.string, name=None), TensorSpec(shape=(None,), dtype=tf.string, name=None)), TensorSpec(shape=(None, 5), dtype=tf.float64, name=None))>)"
            ]
          },
          "metadata": {},
          "execution_count": 73
        }
      ]
    },
    {
      "cell_type": "code",
      "source": [
        "model_4.fit(train_char_token_dataset,\n",
        "            steps_per_epoch = int(0.1*len(train_char_token_dataset)),\n",
        "            epochs = 3,\n",
        "            validation_data =val_char_token_dataset,\n",
        "            validation_steps = int(0.1*len(val_char_token_dataset)))"
      ],
      "metadata": {
        "colab": {
          "base_uri": "https://localhost:8080/"
        },
        "id": "GjeixI3H6JRb",
        "outputId": "69f33f53-0575-4088-85dd-5373ab927736"
      },
      "execution_count": null,
      "outputs": [
        {
          "output_type": "stream",
          "name": "stdout",
          "text": [
            "Epoch 1/3\n",
            "562/562 [==============================] - 44s 58ms/step - loss: 0.9883 - accuracy: 0.6046 - val_loss: 0.7843 - val_accuracy: 0.7011\n",
            "Epoch 2/3\n",
            "562/562 [==============================] - 27s 49ms/step - loss: 0.8080 - accuracy: 0.6863 - val_loss: 0.7187 - val_accuracy: 0.7237\n",
            "Epoch 3/3\n",
            "562/562 [==============================] - 24s 43ms/step - loss: 0.7783 - accuracy: 0.7047 - val_loss: 0.6974 - val_accuracy: 0.7324\n"
          ]
        },
        {
          "output_type": "execute_result",
          "data": {
            "text/plain": [
              "<keras.callbacks.History at 0x7fa410134460>"
            ]
          },
          "metadata": {},
          "execution_count": 74
        }
      ]
    },
    {
      "cell_type": "code",
      "source": [
        "model_4.evaluate(val_char_token_dataset)"
      ],
      "metadata": {
        "colab": {
          "base_uri": "https://localhost:8080/"
        },
        "id": "ZHJ7Ist17Aqa",
        "outputId": "7733940d-0889-4ff1-e3d2-a6fc57174a76"
      },
      "execution_count": null,
      "outputs": [
        {
          "output_type": "stream",
          "name": "stdout",
          "text": [
            "945/945 [==============================] - 34s 36ms/step - loss: 0.7002 - accuracy: 0.7331\n"
          ]
        },
        {
          "output_type": "execute_result",
          "data": {
            "text/plain": [
              "[0.700221836566925, 0.7331193089485168]"
            ]
          },
          "metadata": {},
          "execution_count": 75
        }
      ]
    },
    {
      "cell_type": "code",
      "source": [
        "model_4_pred_probs = model_4.predict(val_char_token_dataset)\n",
        "model_4_preds = tf.argmax(model_4_pred_probs, axis = 1)\n",
        "model_4_results = calculate_results(y_true = val_labels_encoded,\n",
        "                                    y_pred = model_4_preds)"
      ],
      "metadata": {
        "colab": {
          "base_uri": "https://localhost:8080/"
        },
        "id": "lGJ37mrJ7E3J",
        "outputId": "bd8ef3d5-c249-4b08-8d6d-e565cfd3a179"
      },
      "execution_count": null,
      "outputs": [
        {
          "output_type": "stream",
          "name": "stdout",
          "text": [
            "945/945 [==============================] - 22s 19ms/step\n"
          ]
        }
      ]
    },
    {
      "cell_type": "code",
      "source": [
        "model_4_results"
      ],
      "metadata": {
        "colab": {
          "base_uri": "https://localhost:8080/"
        },
        "id": "IFs7FYTX7i3B",
        "outputId": "e3f59461-5cf6-49f4-f1d1-d3f8ed5c3361"
      },
      "execution_count": null,
      "outputs": [
        {
          "output_type": "execute_result",
          "data": {
            "text/plain": [
              "{'accuracy': 73.3119290348206,\n",
              " 'precision': 0.7331603641839873,\n",
              " 'recall': 0.733119290348206,\n",
              " 'f1': 0.7304656025189399}"
            ]
          },
          "metadata": {},
          "execution_count": 77
        }
      ]
    },
    {
      "cell_type": "markdown",
      "source": [
        "##Model 4: Transfer learning with pretrained token embeddings + character embeddings + positional embeddings"
      ],
      "metadata": {
        "id": "qCxncQIX9kaS"
      }
    },
    {
      "cell_type": "code",
      "source": [
        "#create positional embeddings\n",
        "train_df[\"line_number\"].value_counts() #how many lines are there per # of lines"
      ],
      "metadata": {
        "colab": {
          "base_uri": "https://localhost:8080/"
        },
        "id": "sjb3sUEV9t2z",
        "outputId": "ea9d8093-7606-461a-ce7d-dc9474c49bea"
      },
      "execution_count": null,
      "outputs": [
        {
          "output_type": "execute_result",
          "data": {
            "text/plain": [
              "0     15000\n",
              "1     15000\n",
              "2     15000\n",
              "3     15000\n",
              "4     14992\n",
              "5     14949\n",
              "6     14758\n",
              "7     14279\n",
              "8     13346\n",
              "9     11981\n",
              "10    10041\n",
              "11     7892\n",
              "12     5853\n",
              "13     4152\n",
              "14     2835\n",
              "15     1861\n",
              "16     1188\n",
              "17      751\n",
              "18      462\n",
              "19      286\n",
              "20      162\n",
              "21      101\n",
              "22       66\n",
              "23       33\n",
              "24       22\n",
              "25       14\n",
              "26        7\n",
              "27        4\n",
              "28        3\n",
              "29        1\n",
              "30        1\n",
              "Name: line_number, dtype: int64"
            ]
          },
          "metadata": {},
          "execution_count": 78
        }
      ]
    },
    {
      "cell_type": "code",
      "source": [
        "train_df.line_number.plot.hist()"
      ],
      "metadata": {
        "colab": {
          "base_uri": "https://localhost:8080/",
          "height": 447
        },
        "id": "-kmfzjv0_RGA",
        "outputId": "a22bb17b-43b6-425b-faa0-3f4ff2ffab28"
      },
      "execution_count": null,
      "outputs": [
        {
          "output_type": "execute_result",
          "data": {
            "text/plain": [
              "<Axes: ylabel='Frequency'>"
            ]
          },
          "metadata": {},
          "execution_count": 79
        },
        {
          "output_type": "display_data",
          "data": {
            "text/plain": [
              "<Figure size 640x480 with 1 Axes>"
            ],
            "image/png": "[encoded data removed]"
          },
          "metadata": {}
        }
      ]
    },
    {
      "cell_type": "code",
      "source": [
        "#use tensorflow to create one-hot-encoded tensors of our 'line_number\"  column\n",
        "train_line_numbers_one_hot = tf.one_hot(train_df[\"line_number\"].to_numpy(),depth= 15)\n",
        "val_line_numbers_one_hot = tf.one_hot(val_df[\"line_number\"].to_numpy(),depth= 15)\n",
        "test_line_numbers_one_hot = tf.one_hot(test_df[\"line_number\"].to_numpy(),depth= 15)\n",
        "train_line_numbers_one_hot[:10], train_line_numbers_one_hot.shape"
      ],
      "metadata": {
        "colab": {
          "base_uri": "https://localhost:8080/"
        },
        "id": "pcu4cVd__bnA",
        "outputId": "69695079-59c4-405f-fef0-2c42f45868a9"
      },
      "execution_count": null,
      "outputs": [
        {
          "output_type": "execute_result",
          "data": {
            "text/plain": [
              "(<tf.Tensor: shape=(10, 15), dtype=float32, numpy=\n",
              " array([[1., 0., 0., 0., 0., 0., 0., 0., 0., 0., 0., 0., 0., 0., 0.],\n",
              "        [0., 1., 0., 0., 0., 0., 0., 0., 0., 0., 0., 0., 0., 0., 0.],\n",
              "        [0., 0., 1., 0., 0., 0., 0., 0., 0., 0., 0., 0., 0., 0., 0.],\n",
              "        [0., 0., 0., 1., 0., 0., 0., 0., 0., 0., 0., 0., 0., 0., 0.],\n",
              "        [0., 0., 0., 0., 1., 0., 0., 0., 0., 0., 0., 0., 0., 0., 0.],\n",
              "        [0., 0., 0., 0., 0., 1., 0., 0., 0., 0., 0., 0., 0., 0., 0.],\n",
              "        [0., 0., 0., 0., 0., 0., 1., 0., 0., 0., 0., 0., 0., 0., 0.],\n",
              "        [0., 0., 0., 0., 0., 0., 0., 1., 0., 0., 0., 0., 0., 0., 0.],\n",
              "        [0., 0., 0., 0., 0., 0., 0., 0., 1., 0., 0., 0., 0., 0., 0.],\n",
              "        [0., 0., 0., 0., 0., 0., 0., 0., 0., 1., 0., 0., 0., 0., 0.]],\n",
              "       dtype=float32)>,\n",
              " TensorShape([180040, 15]))"
            ]
          },
          "metadata": {},
          "execution_count": 104
        }
      ]
    },
    {
      "cell_type": "code",
      "source": [
        "#same steps for total lines feature\n",
        "train_df.total_lines.plot.hist()"
      ],
      "metadata": {
        "colab": {
          "base_uri": "https://localhost:8080/",
          "height": 448
        },
        "id": "JcItLHpyAYte",
        "outputId": "179949ec-af95-49d6-fb59-66234ec73149"
      },
      "execution_count": null,
      "outputs": [
        {
          "output_type": "execute_result",
          "data": {
            "text/plain": [
              "<Axes: ylabel='Frequency'>"
            ]
          },
          "metadata": {},
          "execution_count": 85
        },
        {
          "output_type": "display_data",
          "data": {
            "text/plain": [
              "<Figure size 640x480 with 1 Axes>"
            ],
            "image/png": "[encoded data removed]"
          },
          "metadata": {}
        }
      ]
    },
    {
      "cell_type": "code",
      "source": [
        "#use tensorflow to create one-hot-encoded tensors of our 'total_lines\"  column\n",
        "train_total_numbers_one_hot = tf.one_hot(train_df[\"total_lines\"].to_numpy(),depth= 20)\n",
        "val_total_numbers_one_hot = tf.one_hot(val_df[\"total_lines\"].to_numpy(),depth= 20)\n",
        "test_total_numbers_one_hot = tf.one_hot(test_df[\"total_lines\"].to_numpy(),depth= 20)\n",
        "train_total_numbers_one_hot[:20], train_line_numbers_one_hot.shape"
      ],
      "metadata": {
        "colab": {
          "base_uri": "https://localhost:8080/"
        },
        "id": "WvsvC6-dAhCs",
        "outputId": "96876810-6b09-43fd-8d06-21627357fbb3"
      },
      "execution_count": null,
      "outputs": [
        {
          "output_type": "execute_result",
          "data": {
            "text/plain": [
              "(<tf.Tensor: shape=(20, 20), dtype=float32, numpy=\n",
              " array([[0., 0., 0., 0., 0., 0., 0., 0., 0., 0., 0., 1., 0., 0., 0., 0.,\n",
              "         0., 0., 0., 0.],\n",
              "        [0., 0., 0., 0., 0., 0., 0., 0., 0., 0., 0., 1., 0., 0., 0., 0.,\n",
              "         0., 0., 0., 0.],\n",
              "        [0., 0., 0., 0., 0., 0., 0., 0., 0., 0., 0., 1., 0., 0., 0., 0.,\n",
              "         0., 0., 0., 0.],\n",
              "        [0., 0., 0., 0., 0., 0., 0., 0., 0., 0., 0., 1., 0., 0., 0., 0.,\n",
              "         0., 0., 0., 0.],\n",
              "        [0., 0., 0., 0., 0., 0., 0., 0., 0., 0., 0., 1., 0., 0., 0., 0.,\n",
              "         0., 0., 0., 0.],\n",
              "        [0., 0., 0., 0., 0., 0., 0., 0., 0., 0., 0., 1., 0., 0., 0., 0.,\n",
              "         0., 0., 0., 0.],\n",
              "        [0., 0., 0., 0., 0., 0., 0., 0., 0., 0., 0., 1., 0., 0., 0., 0.,\n",
              "         0., 0., 0., 0.],\n",
              "        [0., 0., 0., 0., 0., 0., 0., 0., 0., 0., 0., 1., 0., 0., 0., 0.,\n",
              "         0., 0., 0., 0.],\n",
              "        [0., 0., 0., 0., 0., 0., 0., 0., 0., 0., 0., 1., 0., 0., 0., 0.,\n",
              "         0., 0., 0., 0.],\n",
              "        [0., 0., 0., 0., 0., 0., 0., 0., 0., 0., 0., 1., 0., 0., 0., 0.,\n",
              "         0., 0., 0., 0.],\n",
              "        [0., 0., 0., 0., 0., 0., 0., 0., 0., 0., 0., 1., 0., 0., 0., 0.,\n",
              "         0., 0., 0., 0.],\n",
              "        [0., 0., 0., 0., 0., 0., 0., 0., 0., 0., 0., 1., 0., 0., 0., 0.,\n",
              "         0., 0., 0., 0.],\n",
              "        [0., 0., 0., 0., 0., 0., 0., 0., 0., 0., 1., 0., 0., 0., 0., 0.,\n",
              "         0., 0., 0., 0.],\n",
              "        [0., 0., 0., 0., 0., 0., 0., 0., 0., 0., 1., 0., 0., 0., 0., 0.,\n",
              "         0., 0., 0., 0.],\n",
              "        [0., 0., 0., 0., 0., 0., 0., 0., 0., 0., 1., 0., 0., 0., 0., 0.,\n",
              "         0., 0., 0., 0.],\n",
              "        [0., 0., 0., 0., 0., 0., 0., 0., 0., 0., 1., 0., 0., 0., 0., 0.,\n",
              "         0., 0., 0., 0.],\n",
              "        [0., 0., 0., 0., 0., 0., 0., 0., 0., 0., 1., 0., 0., 0., 0., 0.,\n",
              "         0., 0., 0., 0.],\n",
              "        [0., 0., 0., 0., 0., 0., 0., 0., 0., 0., 1., 0., 0., 0., 0., 0.,\n",
              "         0., 0., 0., 0.],\n",
              "        [0., 0., 0., 0., 0., 0., 0., 0., 0., 0., 1., 0., 0., 0., 0., 0.,\n",
              "         0., 0., 0., 0.],\n",
              "        [0., 0., 0., 0., 0., 0., 0., 0., 0., 0., 1., 0., 0., 0., 0., 0.,\n",
              "         0., 0., 0., 0.]], dtype=float32)>,\n",
              " TensorShape([180040, 20]))"
            ]
          },
          "metadata": {},
          "execution_count": 103
        }
      ]
    },
    {
      "cell_type": "markdown",
      "source": [
        "Building the tribrid embedding model"
      ],
      "metadata": {
        "id": "pB_1dHGvB0Bm"
      }
    },
    {
      "cell_type": "code",
      "source": [
        "#Token\n",
        "token_inputs = layers.Input(shape = [], dtype = \"string\", name = \"token_inputs\")\n",
        "token_embeddings = tf_hub_embedding_layer(token_inputs)\n",
        "token_outputs = layers.Dense(128, activation = \"relu\")(token_embeddings)\n",
        "token_model = tf.keras.Model(token_inputs, token_outputs)\n",
        "\n",
        "#char\n",
        "char_inputs = layers.Input(shape=(1,), dtype = \"string\", name = \"char_inputs\")\n",
        "char_vectors = char_vectorizer(char_inputs)\n",
        "char_embeddings = char_embed(char_vectors)\n",
        "char_bi_lstm = layers.Bidirectional(layers.LSTM(24))(char_embeddings)\n",
        "char_model = tf.keras.Model(char_inputs, char_bi_lstm)\n",
        "\n",
        "#line numbers\n",
        "line_number_inputs = layers.Input(shape=(15,), dtype = tf.float32, name = \"line_number_inputs\")\n",
        "x = layers.Dense(32, activation = \"relu\")(line_number_inputs)\n",
        "line_number_model = tf.keras.Model(inputs = line_number_inputs, outputs = x)\n",
        "\n",
        "#total lines\n",
        "total_lines_inputs = layers.Input(shape = (20,), dtype = tf.float32, name = \"total_lines_inputs\")\n",
        "y = layers.Dense(32, activation = \"relu\")(total_lines_inputs)\n",
        "total_lines_model = tf.keras.Model(inputs = total_lines_inputs, outputs = y)\n",
        "\n",
        "#combine token and char embeddings into hybrid\n",
        "combined_embeddings = layers.Concatenate(name = \"char_token_hybrid_embedding\")([token_model.output, char_model.output])\n",
        "\n",
        "#dropout layer\n",
        "z = layers.Dense(256, activation = \"relu\")(combined_embeddings)\n",
        "z = layers.Dropout(0.5)(z)\n",
        "\n",
        "#combine positional embedding with combined token and char embedding\n",
        "tribrid_embeddings = layers.Concatenate(name = \"char_token_positional_embedding\")([line_number_model.output,\n",
        "                                                                                   total_lines_model.output,\n",
        "                                                                                   z])\n",
        "#create output layer\n",
        "output_layer = layers.Dense(5, activation = \"softmax\", name = \"output_layer\")(tribrid_embeddings)\n",
        "\n",
        "#put together model with all kinds of inputs\n",
        "model_5  = tf.keras.Model(inputs = [line_number_model.input, #order matters here\n",
        "                                    total_lines_model.input,\n",
        "                                    token_model.input,\n",
        "                                    char_model.input],\n",
        "                          outputs = output_layer,\n",
        "                          name = \"model_5_tribrid_embedding_model\")\n"
      ],
      "metadata": {
        "id": "mT3DNIklBzIs"
      },
      "execution_count": null,
      "outputs": []
    },
    {
      "cell_type": "code",
      "source": [
        "model_5.summary()"
      ],
      "metadata": {
        "colab": {
          "base_uri": "https://localhost:8080/"
        },
        "id": "b079virWHj56",
        "outputId": "9dbbd978-366e-489f-8e69-e174b9e2cbda"
      },
      "execution_count": null,
      "outputs": [
        {
          "output_type": "stream",
          "name": "stdout",
          "text": [
            "Model: \"model_5_tribrid_embedding_model\"\n",
            "__________________________________________________________________________________________________\n",
            " Layer (type)                   Output Shape         Param #     Connected to                     \n",
            "==================================================================================================\n",
            " char_inputs (InputLayer)       [(None, 1)]          0           []                               \n",
            "                                                                                                  \n",
            " token_inputs (InputLayer)      [(None,)]            0           []                               \n",
            "                                                                                                  \n",
            " char_vectorizer (TextVectoriza  (None, 290)         0           ['char_inputs[0][0]']            \n",
            " tion)                                                                                            \n",
            "                                                                                                  \n",
            " universal_sentence_encoder (Ke  (None, 512)         256797824   ['token_inputs[0][0]']           \n",
            " rasLayer)                                                                                        \n",
            "                                                                                                  \n",
            " char_embed (Embedding)         (None, 290, 25)      700         ['char_vectorizer[8][0]']        \n",
            "                                                                                                  \n",
            " dense_24 (Dense)               (None, 128)          65664       ['universal_sentence_encoder[9][0\n",
            "                                                                 ]']                              \n",
            "                                                                                                  \n",
            " bidirectional_7 (Bidirectional  (None, 48)          9600        ['char_embed[8][0]']             \n",
            " )                                                                                                \n",
            "                                                                                                  \n",
            " char_token_hybrid_embedding (C  (None, 176)         0           ['dense_24[0][0]',               \n",
            " oncatenate)                                                      'bidirectional_7[0][0]']        \n",
            "                                                                                                  \n",
            " line_number_inputs (InputLayer  [(None, 15)]        0           []                               \n",
            " )                                                                                                \n",
            "                                                                                                  \n",
            " total_lines_inputs (InputLayer  [(None, 20)]        0           []                               \n",
            " )                                                                                                \n",
            "                                                                                                  \n",
            " dense_27 (Dense)               (None, 256)          45312       ['char_token_hybrid_embedding[0][\n",
            "                                                                 0]']                             \n",
            "                                                                                                  \n",
            " dense_25 (Dense)               (None, 32)           512         ['line_number_inputs[0][0]']     \n",
            "                                                                                                  \n",
            " dense_26 (Dense)               (None, 32)           672         ['total_lines_inputs[0][0]']     \n",
            "                                                                                                  \n",
            " dropout_5 (Dropout)            (None, 256)          0           ['dense_27[0][0]']               \n",
            "                                                                                                  \n",
            " char_token_positional_embeddin  (None, 320)         0           ['dense_25[0][0]',               \n",
            " g (Concatenate)                                                  'dense_26[0][0]',               \n",
            "                                                                  'dropout_5[0][0]']              \n",
            "                                                                                                  \n",
            " output_layer (Dense)           (None, 5)            1605        ['char_token_positional_embedding\n",
            "                                                                 [0][0]']                         \n",
            "                                                                                                  \n",
            "==================================================================================================\n",
            "Total params: 256,921,889\n",
            "Trainable params: 124,065\n",
            "Non-trainable params: 256,797,824\n",
            "__________________________________________________________________________________________________\n"
          ]
        }
      ]
    },
    {
      "cell_type": "code",
      "source": [
        "from keras.utils import plot_model\n",
        "plot_model(model_5)"
      ],
      "metadata": {
        "colab": {
          "base_uri": "https://localhost:8080/",
          "height": 856
        },
        "id": "8Np6RUtYHrs2",
        "outputId": "a45663af-257a-4a99-bbe5-6345fd8a6431"
      },
      "execution_count": null,
      "outputs": [
        {
          "output_type": "execute_result",
          "data": {
            "image/png": "[encoded data removed]",
            "text/plain": [
              "<IPython.core.display.Image object>"
            ]
          },
          "metadata": {},
          "execution_count": 101
        }
      ]
    },
    {
      "cell_type": "code",
      "source": [
        "#compile token, char, and positonal embeding model\n",
        "model_5.compile(loss = tf.keras.losses.CategoricalCrossentropy(label_smoothing = 0.2), #helps to prevent overfitting\n",
        "                optimizer = tf.keras.optimizers.Adam(),\n",
        "                metrics = [\"accuracy\"])"
      ],
      "metadata": {
        "id": "bnjO_9QJIVQB"
      },
      "execution_count": null,
      "outputs": []
    },
    {
      "cell_type": "markdown",
      "source": [
        "Create tribrid embedding datasets"
      ],
      "metadata": {
        "id": "3nRiYnjDLkhd"
      }
    },
    {
      "cell_type": "code",
      "source": [
        "#training dataset\n",
        "train_char_token_pos_data = tf.data.Dataset.from_tensor_slices((train_line_numbers_one_hot,\n",
        "                                                                train_total_numbers_one_hot,\n",
        "                                                                train_sentences,\n",
        "                                                                train_chars))\n",
        "train_char_token_pos_labels = tf.data.Dataset.from_tensor_slices(train_labels_one_hot)\n",
        "train_char_token_pos_dataset = tf.data.Dataset.zip((train_char_token_pos_data, train_char_token_pos_labels))\n",
        "train_char_token_pos_dataset = train_char_token_pos_dataset.batch(32).prefetch(tf.data.AUTOTUNE)\n",
        "\n",
        "#Validation dataset\n",
        "val_char_token_pos_data = tf.data.Dataset.from_tensor_slices((val_line_numbers_one_hot,\n",
        "                                                              val_total_numbers_one_hot,\n",
        "                                                              val_sentences,\n",
        "                                                              val_chars))\n",
        "val_char_token_pos_labels = tf.data.Dataset.from_tensor_slices(val_labels_one_hot)\n",
        "val_char_token_pos_dataset = tf.data.Dataset.zip((val_char_token_pos_data, val_char_token_pos_labels))\n",
        "val_char_token_pos_dataset = val_char_token_pos_dataset.batch(32).prefetch(tf.data.AUTOTUNE)"
      ],
      "metadata": {
        "id": "NuKpPTHkJU5H"
      },
      "execution_count": null,
      "outputs": []
    },
    {
      "cell_type": "code",
      "source": [
        "#check input shapes\n",
        "train_char_token_pos_dataset,val_char_token_pos_dataset,"
      ],
      "metadata": {
        "colab": {
          "base_uri": "https://localhost:8080/"
        },
        "id": "64PI5mIpNmq2",
        "outputId": "5fec91c6-444e-4f46-ced4-ef5002854fce"
      },
      "execution_count": null,
      "outputs": [
        {
          "output_type": "execute_result",
          "data": {
            "text/plain": [
              "(<_PrefetchDataset element_spec=((TensorSpec(shape=(None, 15), dtype=tf.float32, name=None), TensorSpec(shape=(None, 20), dtype=tf.float32, name=None), TensorSpec(shape=(None,), dtype=tf.string, name=None), TensorSpec(shape=(None,), dtype=tf.string, name=None)), TensorSpec(shape=(None, 5), dtype=tf.float64, name=None))>,\n",
              " <_PrefetchDataset element_spec=((TensorSpec(shape=(None, 15), dtype=tf.float32, name=None), TensorSpec(shape=(None, 20), dtype=tf.float32, name=None), TensorSpec(shape=(None,), dtype=tf.string, name=None), TensorSpec(shape=(None,), dtype=tf.string, name=None)), TensorSpec(shape=(None, 5), dtype=tf.float64, name=None))>)"
            ]
          },
          "metadata": {},
          "execution_count": 109
        }
      ]
    },
    {
      "cell_type": "code",
      "source": [
        "history_model_5 = model_5.fit(train_char_token_pos_dataset,\n",
        "                              steps_per_epoch = int(0.1*len(train_char_token_pos_dataset)),\n",
        "                              epochs = 3,\n",
        "                              validation_data = val_char_token_pos_dataset,\n",
        "                              validation_steps = int(0.1*len(val_char_token_pos_dataset)))"
      ],
      "metadata": {
        "colab": {
          "base_uri": "https://localhost:8080/"
        },
        "id": "fZwLYOjIN4hG",
        "outputId": "6650ae39-8551-4e49-8ba6-44a8d3f80e06"
      },
      "execution_count": null,
      "outputs": [
        {
          "output_type": "stream",
          "name": "stdout",
          "text": [
            "Epoch 1/3\n",
            "562/562 [==============================] - 59s 85ms/step - loss: 1.1001 - accuracy: 0.7184 - val_loss: 0.9833 - val_accuracy: 0.8049\n",
            "Epoch 2/3\n",
            "562/562 [==============================] - 44s 78ms/step - loss: 0.9682 - accuracy: 0.8127 - val_loss: 0.9505 - val_accuracy: 0.8281\n",
            "Epoch 3/3\n",
            "562/562 [==============================] - 25s 44ms/step - loss: 0.9488 - accuracy: 0.8258 - val_loss: 0.9391 - val_accuracy: 0.8275\n"
          ]
        }
      ]
    },
    {
      "cell_type": "code",
      "source": [
        "model_5_pred_probs = model_5.predict(val_char_token_pos_dataset, verbose = 1)\n",
        "model_5_preds = tf.argmax(model_5_pred_probs, axis = 1)\n",
        "model_5_results = calculate_results(y_true = val_labels_encoded,\n",
        "                                    y_pred = model_5_preds)"
      ],
      "metadata": {
        "colab": {
          "base_uri": "https://localhost:8080/"
        },
        "id": "cmk-FRITOZF4",
        "outputId": "ced8d26e-c5dd-4dfa-a22e-afc125b3e5ee"
      },
      "execution_count": null,
      "outputs": [
        {
          "output_type": "stream",
          "name": "stdout",
          "text": [
            "945/945 [==============================] - 22s 20ms/step\n"
          ]
        }
      ]
    },
    {
      "cell_type": "code",
      "source": [
        "model_5_results #10% better than model 4 with no positional embeddings"
      ],
      "metadata": {
        "colab": {
          "base_uri": "https://localhost:8080/"
        },
        "id": "czYS7AMXPA00",
        "outputId": "0ed11b5f-0b65-45d6-a7f2-599488f0ec56"
      },
      "execution_count": null,
      "outputs": [
        {
          "output_type": "execute_result",
          "data": {
            "text/plain": [
              "{'accuracy': 83.19210909572355,\n",
              " 'precision': 0.8305891066588557,\n",
              " 'recall': 0.8319210909572355,\n",
              " 'f1': 0.8310446662316009}"
            ]
          },
          "metadata": {},
          "execution_count": 112
        }
      ]
    },
    {
      "cell_type": "markdown",
      "source": [
        "## Compare Model Results"
      ],
      "metadata": {
        "id": "Jbnb4ohiPxjs"
      }
    },
    {
      "cell_type": "code",
      "source": [
        "all_model_results = pd.DataFrame({\"model_0_baseline\": baseline_results,\n",
        "                                  \"model_1_custom_token_embedding\": model_1_results,\n",
        "                                  \"model_2_pretrained_token_embedding\" : model_2_results,\n",
        "                                  \"model_3_custom_char_embedding\": model_3_results,\n",
        "                                  \"model_4_hybrid_char_token_embedding\": model_4_results,\n",
        "                                  \"modle_5_pos_char_token_embedding\": model_5_results})\n",
        "all_model_results = all_model_results.transpose()\n",
        "all_model_results"
      ],
      "metadata": {
        "colab": {
          "base_uri": "https://localhost:8080/",
          "height": 237
        },
        "id": "suYQhh23P0ON",
        "outputId": "ebcb570b-4d28-4b70-9a94-48f5d8570517"
      },
      "execution_count": null,
      "outputs": [
        {
          "output_type": "execute_result",
          "data": {
            "text/plain": [
              "                                      accuracy  precision    recall        f1\n",
              "model_0_baseline                     72.183238   0.718647  0.721832  0.698925\n",
              "model_1_custom_token_embedding       11.697339   0.501805  0.116973  0.030650\n",
              "model_2_pretrained_token_embedding   71.385542   0.714454  0.713855  0.711112\n",
              "model_3_custom_char_embedding        44.541904   0.378194  0.445419  0.388783\n",
              "model_4_hybrid_char_token_embedding  73.311929   0.733160  0.733119  0.730466\n",
              "modle_5_pos_char_token_embedding     83.192109   0.830589  0.831921  0.831045"
            ],
            "text/html": [
              "\n",
              "  <div id=\"df-db479f1e-ab1b-47b9-b865-9a4deb5affde\">\n",
              "    <div class=\"colab-df-container\">\n",
              "      <div>\n",
              "<style scoped>\n",
              "    .dataframe tbody tr th:only-of-type {\n",
              "        vertical-align: middle;\n",
              "    }\n",
              "\n",
              "    .dataframe tbody tr th {\n",
              "        vertical-align: top;\n",
              "    }\n",
              "\n",
              "    .dataframe thead th {\n",
              "        text-align: right;\n",
              "    }\n",
              "</style>\n",
              "<table border=\"1\" class=\"dataframe\">\n",
              "  <thead>\n",
              "    <tr style=\"text-align: right;\">\n",
              "      <th></th>\n",
              "      <th>accuracy</th>\n",
              "      <th>precision</th>\n",
              "      <th>recall</th>\n",
              "      <th>f1</th>\n",
              "    </tr>\n",
              "  </thead>\n",
              "  <tbody>\n",
              "    <tr>\n",
              "      <th>model_0_baseline</th>\n",
              "      <td>72.183238</td>\n",
              "      <td>0.718647</td>\n",
              "      <td>0.721832</td>\n",
              "      <td>0.698925</td>\n",
              "    </tr>\n",
              "    <tr>\n",
              "      <th>model_1_custom_token_embedding</th>\n",
              "      <td>11.697339</td>\n",
              "      <td>0.501805</td>\n",
              "      <td>0.116973</td>\n",
              "      <td>0.030650</td>\n",
              "    </tr>\n",
              "    <tr>\n",
              "      <th>model_2_pretrained_token_embedding</th>\n",
              "      <td>71.385542</td>\n",
              "      <td>0.714454</td>\n",
              "      <td>0.713855</td>\n",
              "      <td>0.711112</td>\n",
              "    </tr>\n",
              "    <tr>\n",
              "      <th>model_3_custom_char_embedding</th>\n",
              "      <td>44.541904</td>\n",
              "      <td>0.378194</td>\n",
              "      <td>0.445419</td>\n",
              "      <td>0.388783</td>\n",
              "    </tr>\n",
              "    <tr>\n",
              "      <th>model_4_hybrid_char_token_embedding</th>\n",
              "      <td>73.311929</td>\n",
              "      <td>0.733160</td>\n",
              "      <td>0.733119</td>\n",
              "      <td>0.730466</td>\n",
              "    </tr>\n",
              "    <tr>\n",
              "      <th>modle_5_pos_char_token_embedding</th>\n",
              "      <td>83.192109</td>\n",
              "      <td>0.830589</td>\n",
              "      <td>0.831921</td>\n",
              "      <td>0.831045</td>\n",
              "    </tr>\n",
              "  </tbody>\n",
              "</table>\n",
              "</div>\n",
              "      <button class=\"colab-df-convert\" onclick=\"convertToInteractive('df-db479f1e-ab1b-47b9-b865-9a4deb5affde')\"\n",
              "              title=\"Convert this dataframe to an interactive table.\"\n",
              "              style=\"display:none;\">\n",
              "        \n",
              "  <svg xmlns=\"http://www.w3.org/2000/svg\" height=\"24px\"viewBox=\"0 0 24 24\"\n",
              "       width=\"24px\">\n",
              "    <path d=\"M0 0h24v24H0V0z\" fill=\"none\"/>\n",
              "    <path d=\"M18.56 5.44l.94 2.06.94-2.06 2.06-.94-2.06-.94-.94-2.06-.94 2.06-2.06.94zm-11 1L8.5 8.5l.94-2.06 2.06-.94-2.06-.94L8.5 2.5l-.94 2.06-2.06.94zm10 10l.94 2.06.94-2.06 2.06-.94-2.06-.94-.94-2.06-.94 2.06-2.06.94z\"/><path d=\"M17.41 7.96l-1.37-1.37c-.4-.4-.92-.59-1.43-.59-.52 0-1.04.2-1.43.59L10.3 9.45l-7.72 7.72c-.78.78-.78 2.05 0 2.83L4 21.41c.39.39.9.59 1.41.59.51 0 1.02-.2 1.41-.59l7.78-7.78 2.81-2.81c.8-.78.8-2.07 0-2.86zM5.41 20L4 18.59l7.72-7.72 1.47 1.35L5.41 20z\"/>\n",
              "  </svg>\n",
              "      </button>\n",
              "      \n",
              "  <style>\n",
              "    .colab-df-container {\n",
              "      display:flex;\n",
              "      flex-wrap:wrap;\n",
              "      gap: 12px;\n",
              "    }\n",
              "\n",
              "    .colab-df-convert {\n",
              "      background-color: #E8F0FE;\n",
              "      border: none;\n",
              "      border-radius: 50%;\n",
              "      cursor: pointer;\n",
              "      display: none;\n",
              "      fill: #1967D2;\n",
              "      height: 32px;\n",
              "      padding: 0 0 0 0;\n",
              "      width: 32px;\n",
              "    }\n",
              "\n",
              "    .colab-df-convert:hover {\n",
              "      background-color: #E2EBFA;\n",
              "      box-shadow: 0px 1px 2px rgba(60, 64, 67, 0.3), 0px 1px 3px 1px rgba(60, 64, 67, 0.15);\n",
              "      fill: #174EA6;\n",
              "    }\n",
              "\n",
              "    [theme=dark] .colab-df-convert {\n",
              "      background-color: #3B4455;\n",
              "      fill: #D2E3FC;\n",
              "    }\n",
              "\n",
              "    [theme=dark] .colab-df-convert:hover {\n",
              "      background-color: #434B5C;\n",
              "      box-shadow: 0px 1px 3px 1px rgba(0, 0, 0, 0.15);\n",
              "      filter: drop-shadow(0px 1px 2px rgba(0, 0, 0, 0.3));\n",
              "      fill: #FFFFFF;\n",
              "    }\n",
              "  </style>\n",
              "\n",
              "      <script>\n",
              "        const buttonEl =\n",
              "          document.querySelector('#df-db479f1e-ab1b-47b9-b865-9a4deb5affde button.colab-df-convert');\n",
              "        buttonEl.style.display =\n",
              "          google.colab.kernel.accessAllowed ? 'block' : 'none';\n",
              "\n",
              "        async function convertToInteractive(key) {\n",
              "          const element = document.querySelector('#df-db479f1e-ab1b-47b9-b865-9a4deb5affde');\n",
              "          const dataTable =\n",
              "            await google.colab.kernel.invokeFunction('convertToInteractive',\n",
              "                                                     [key], {});\n",
              "          if (!dataTable) return;\n",
              "\n",
              "          const docLinkHtml = 'Like what you see? Visit the ' +\n",
              "            '<a target=\"_blank\" href=https://colab.research.google.com/notebooks/data_table.ipynb>data table notebook</a>'\n",
              "            + ' to learn more about interactive tables.';\n",
              "          element.innerHTML = '';\n",
              "          dataTable['output_type'] = 'display_data';\n",
              "          await google.colab.output.renderOutput(dataTable, element);\n",
              "          const docLink = document.createElement('div');\n",
              "          docLink.innerHTML = docLinkHtml;\n",
              "          element.appendChild(docLink);\n",
              "        }\n",
              "      </script>\n",
              "    </div>\n",
              "  </div>\n",
              "  "
            ]
          },
          "metadata": {},
          "execution_count": 115
        }
      ]
    },
    {
      "cell_type": "code",
      "source": [
        "all_model_results[\"accuracy\"] = all_model_results[\"accuracy\"]/100\n",
        "all_model_results.plot(kind=\"bar\", figsize = (10,7)).legend(bbox_to_anchor = (1.0,1.0))"
      ],
      "metadata": {
        "colab": {
          "base_uri": "https://localhost:8080/",
          "height": 882
        },
        "id": "5J-Z832gQ9zl",
        "outputId": "73920c0e-718d-4714-82c6-1b4ad4e94114"
      },
      "execution_count": null,
      "outputs": [
        {
          "output_type": "execute_result",
          "data": {
            "text/plain": [
              "<matplotlib.legend.Legend at 0x7fa3ff2d9990>"
            ]
          },
          "metadata": {},
          "execution_count": 116
        },
        {
          "output_type": "display_data",
          "data": {
            "text/plain": [
              "<Figure size 1000x700 with 1 Axes>"
            ],
            "image/png": "[encoded data removed]"
          },
          "metadata": {}
        }
      ]
    },
    {
      "cell_type": "code",
      "source": [
        "all_model_results.sort_values(\"f1\",ascending = True)[\"f1\"].plot(kind= \"bar\", figsize = (10,7))"
      ],
      "metadata": {
        "colab": {
          "base_uri": "https://localhost:8080/",
          "height": 882
        },
        "id": "NwsQamV4RmEf",
        "outputId": "518efdd3-12a4-4e93-f0f0-e705be977e0c"
      },
      "execution_count": null,
      "outputs": [
        {
          "output_type": "execute_result",
          "data": {
            "text/plain": [
              "<Axes: >"
            ]
          },
          "metadata": {},
          "execution_count": 117
        },
        {
          "output_type": "display_data",
          "data": {
            "text/plain": [
              "<Figure size 1000x700 with 1 Axes>"
            ],
            "image/png": "[encoded data removed]"
          },
          "metadata": {}
        }
      ]
    }
  ]
}